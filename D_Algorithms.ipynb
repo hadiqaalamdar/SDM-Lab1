{
 "cells": [
  {
   "cell_type": "code",
   "execution_count": 1,
   "metadata": {},
   "outputs": [],
   "source": [
    "from semanticscholar import SemanticScholar\n",
    "import csv\n",
    "import pandas as pd\n",
    "import random\n",
    "import json\n",
    "import shutil\n",
    "import numpy as np\n",
    "\n",
    "import os\n",
    "from neo4j import GraphDatabase\n"
   ]
  },
  {
   "cell_type": "code",
   "execution_count": 2,
   "metadata": {},
   "outputs": [],
   "source": [
    "NEO4J_URI = \"bolt://localhost:7687\"  # Default for Neo4j Desktop\n",
    "NEO4J_USER = \"neo4j\"\n",
    "NEO4J_PASSWORD = \"pass1234\"  # Change this to your actual password\n",
    "IMPORT_FOLDER = os.path.expanduser(\"~/Library/Application Support/Neo4j Desktop/Application/relate-data/dbmss/dbms-6f9440a9-c56d-4ebc-b244-90d92b771350/import/\")"
   ]
  },
  {
   "cell_type": "code",
   "execution_count": 3,
   "metadata": {},
   "outputs": [],
   "source": [
    "driver = GraphDatabase.driver(NEO4J_URI, auth=(NEO4J_USER, NEO4J_PASSWORD))\n",
    "\n",
    "session = driver.session() "
   ]
  },
  {
   "cell_type": "markdown",
   "metadata": {},
   "source": [
    "1. Node Similarity Algorithm: For Paper Similarity Based on Topics "
   ]
  },
  {
   "cell_type": "code",
   "execution_count": 19,
   "metadata": {},
   "outputs": [
    {
     "name": "stderr",
     "output_type": "stream",
     "text": [
      "Received notification from DBMS server: {severity: WARNING} {code: Neo.ClientNotification.Statement.FeatureDeprecationWarning} {category: DEPRECATION} {title: This feature is deprecated and will be removed in future versions.} {description: The query used a deprecated field from a procedure. ('schema' returned by 'gds.graph.drop' is deprecated.)} {position: line: 1, column: 1, offset: 0} for query: \"CALL gds.graph.drop('paperTopicGraph', false)\"\n"
     ]
    },
    {
     "name": "stdout",
     "output_type": "stream",
     "text": [
      "[<Record graphName='paperTopicGraph' database='neo4j' databaseLocation='local' memoryUsage='' sizeInBytes=-1 nodeCount=5276 relationshipCount=22646 configuration={'relationshipProjection': {'About': {'aggregation': 'DEFAULT', 'orientation': 'UNDIRECTED', 'indexInverse': False, 'properties': {}, 'type': 'About'}}, 'readConcurrency': 4, 'relationshipProperties': {}, 'nodeProperties': {}, 'jobId': '583dd711-ca7c-44f3-acd9-2ad52c682843', 'nodeProjection': {'Paper': {'label': 'Paper', 'properties': {}}, 'Keyword': {'label': 'Keyword', 'properties': {}}}, 'logProgress': True, 'validateRelationships': False, 'sudo': False} density=0.0008136998803488209 creationTime=neo4j.time.DateTime(2025, 4, 8, 3, 18, 26, 937924000, tzinfo=<DstTzInfo 'Europe/Madrid' CEST+2:00:00 DST>) modificationTime=neo4j.time.DateTime(2025, 4, 8, 3, 18, 26, 937924000, tzinfo=<DstTzInfo 'Europe/Madrid' CEST+2:00:00 DST>) schema={'graphProperties': {}, 'nodes': {'Paper': {}, 'Keyword': {}}, 'relationships': {'About': {}}} schemaWithOrientation={'graphProperties': {}, 'nodes': {'Paper': {}, 'Keyword': {}}, 'relationships': {'About': {'direction': 'UNDIRECTED', 'properties': {}}}}>]\n"
     ]
    }
   ],
   "source": [
    "# drop projected graph if exists\n",
    "\n",
    "query = \"\"\"CALL gds.graph.drop('paperTopicGraph', false)\"\"\"\n",
    "result = session.run(query)\n",
    "\n",
    "print([record for record in result])\n"
   ]
  },
  {
   "cell_type": "code",
   "execution_count": 20,
   "metadata": {},
   "outputs": [
    {
     "name": "stdout",
     "output_type": "stream",
     "text": [
      "[<Record nodeProjection={'Paper': {'label': 'Paper', 'properties': {}}, 'Keyword': {'label': 'Keyword', 'properties': {}}} relationshipProjection={'About': {'aggregation': 'DEFAULT', 'orientation': 'UNDIRECTED', 'indexInverse': False, 'properties': {}, 'type': 'About'}} graphName='paperTopicGraph' nodeCount=5276 relationshipCount=22646 projectMillis=28>] <neo4j._work.summary.ResultSummary object at 0x125aac670>\n"
     ]
    }
   ],
   "source": [
    "# Check similarity (project the graph, run algorith, and retrun similariy)\n",
    "\n",
    "query = \"\"\"\n",
    "        CALL gds.graph.project(\n",
    "        'paperTopicGraph',\n",
    "        ['Paper', 'Keyword'],\n",
    "        {\n",
    "            About: {\n",
    "            type: 'About',\n",
    "            orientation: 'UNDIRECTED'\n",
    "            }\n",
    "        }\n",
    "        )\n",
    "        \"\"\"\n",
    "result = session.run(query)\n",
    "\n",
    "print(list(result))"
   ]
  },
  {
   "cell_type": "code",
   "execution_count": 23,
   "metadata": {},
   "outputs": [
    {
     "name": "stdout",
     "output_type": "stream",
     "text": [
      "[<Record Paper1_DOI='202310.3390/en17040925' Paper2_DOI='201810.1016/J.PSEP.2019.01.013' similarity=1.0>, <Record Paper1_DOI='202310.3390/en17040925' Paper2_DOI='202110.1007/s13201-022-01830-0' similarity=1.0>, <Record Paper1_DOI='202310.3390/en17040925' Paper2_DOI='201710.1016/J.PSEP.2019.01.013' similarity=1.0>, <Record Paper1_DOI='202310.3390/en17040925' Paper2_DOI='202110.1109/ACCESS.2022.3167058' similarity=1.0>, <Record Paper1_DOI='202310.3390/en17040925' Paper2_DOI='202210.1049/rpg2.12985' similarity=1.0>, <Record Paper1_DOI='202310.3390/en17040925' Paper2_DOI='202310.5753/jisa.2024.3805' similarity=1.0>, <Record Paper1_DOI='202310.3390/en17040925' Paper2_DOI='202310.1049/rpg2.12985' similarity=1.0>, <Record Paper1_DOI='202310.3390/en17040925' Paper2_DOI='202010.1007/s13201-022-01830-0' similarity=1.0>, <Record Paper1_DOI='202310.3390/en17040925' Paper2_DOI='202010.1109/ACCESS.2022.3167058' similarity=1.0>, <Record Paper1_DOI='202310.3390/en17040925' Paper2_DOI='202210.3390/en17040925' similarity=1.0>]\n"
     ]
    }
   ],
   "source": [
    "query = \"\"\"\n",
    "\n",
    "        CALL gds.nodeSimilarity.stream('paperTopicGraph')\n",
    "        YIELD node1, node2, similarity\n",
    "        RETURN \n",
    "        gds.util.asNode(node1).DOI AS Paper1_DOI,\n",
    "        gds.util.asNode(node2).DOI AS Paper2_DOI,\n",
    "        similarity\n",
    "        ORDER BY similarity DESC\n",
    "        Limit 10;\n",
    "\n",
    "        \"\"\"\n",
    "result = session.run(query)\n",
    "\n",
    "print(list(result))"
   ]
  },
  {
   "cell_type": "markdown",
   "metadata": {},
   "source": [
    "2. PageRank: Identifying the most influential papers in the network considering citations.\n",
    "\n",
    "This will help determine which papers are most influential based on how many other papers cite them and how important those citing papers are."
   ]
  },
  {
   "cell_type": "code",
   "execution_count": 34,
   "metadata": {},
   "outputs": [
    {
     "name": "stderr",
     "output_type": "stream",
     "text": [
      "Received notification from DBMS server: {severity: WARNING} {code: Neo.ClientNotification.Statement.FeatureDeprecationWarning} {category: DEPRECATION} {title: This feature is deprecated and will be removed in future versions.} {description: The query used a deprecated field from a procedure. ('schema' returned by 'gds.graph.drop' is deprecated.)} {position: line: 1, column: 1, offset: 0} for query: \"CALL gds.graph.drop('citationGraph', false)\"\n"
     ]
    },
    {
     "name": "stdout",
     "output_type": "stream",
     "text": [
      "[<Record graphName='citationGraph' database='neo4j' databaseLocation='local' memoryUsage='' sizeInBytes=-1 nodeCount=5252 relationshipCount=3545 configuration={'relationshipProjection': {'CITED_BY': {'aggregation': 'DEFAULT', 'orientation': 'REVERSE', 'indexInverse': False, 'properties': {'decision': {'aggregation': 'DEFAULT', 'property': 'decision', 'defaultValue': 0.5}}, 'type': 'Cited_by'}}, 'readConcurrency': 4, 'relationshipProperties': {}, 'nodeProperties': {}, 'jobId': 'c0eafca0-7aa2-464a-8a79-903fc2411a90', 'nodeProjection': {'Paper': {'label': 'Paper', 'properties': {}}}, 'logProgress': True, 'validateRelationships': False, 'sudo': False} density=0.00012854331739372025 creationTime=neo4j.time.DateTime(2025, 4, 8, 4, 0, 51, 680450000, tzinfo=<DstTzInfo 'Europe/Madrid' CEST+2:00:00 DST>) modificationTime=neo4j.time.DateTime(2025, 4, 8, 4, 0, 51, 680450000, tzinfo=<DstTzInfo 'Europe/Madrid' CEST+2:00:00 DST>) schema={'graphProperties': {}, 'nodes': {'Paper': {}}, 'relationships': {'CITED_BY': {'decision': 'Float (DefaultValue(0.5), PERSISTENT, Aggregation.NONE)'}}} schemaWithOrientation={'graphProperties': {}, 'nodes': {'Paper': {}}, 'relationships': {'CITED_BY': {'direction': 'DIRECTED', 'properties': {'decision': 'Float (DefaultValue(0.5), PERSISTENT, Aggregation.NONE)'}}}}>]\n"
     ]
    }
   ],
   "source": [
    "# drop projected graph if exists\n",
    "\n",
    "query = \"\"\"CALL gds.graph.drop('citationGraph', false)\"\"\"\n",
    "result = session.run(query)\n",
    "\n",
    "print([record for record in result])"
   ]
  },
  {
   "cell_type": "code",
   "execution_count": 35,
   "metadata": {},
   "outputs": [
    {
     "name": "stdout",
     "output_type": "stream",
     "text": [
      "[<Record nodeProjection={'Paper': {'label': 'Paper', 'properties': {}}} relationshipProjection={'Cited_by': {'aggregation': 'DEFAULT', 'orientation': 'REVERSE', 'indexInverse': False, 'properties': {}, 'type': 'Cited_by'}} graphName='citationGraph' nodeCount=5252 relationshipCount=3545 projectMillis=16>]\n"
     ]
    }
   ],
   "source": [
    "# Project the graph first\n",
    "query = \"\"\"\n",
    "CALL gds.graph.project(\n",
    "  'citationGraph',\n",
    "  'Paper',\n",
    "  {\n",
    "    Cited_by: {\n",
    "      type: 'Cited_by',\n",
    "      orientation: 'REVERSE'\n",
    "    }\n",
    "  }\n",
    ")\n",
    "\n",
    "\"\"\"\n",
    "\n",
    "result = session.run(query)\n",
    "print([record for record in result])\n"
   ]
  },
  {
   "cell_type": "code",
   "execution_count": 39,
   "metadata": {},
   "outputs": [
    {
     "name": "stderr",
     "output_type": "stream",
     "text": [
      "Received notification from DBMS server: {severity: WARNING} {code: Neo.ClientNotification.Statement.FeatureDeprecationWarning} {category: DEPRECATION} {title: This feature is deprecated and will be removed in future versions.} {description: The query used a deprecated function: `id`.} {position: line: 4, column: 23, offset: 85} for query: \"\\nCALL gds.pageRank.stream('citationGraph')\\nYIELD nodeId, score\\nMATCH (p:Paper) WHERE id(p) = nodeId\\nRETURN p.DOI AS paper, score\\nORDER BY score desc\\nLIMIT 10\\n\"\n"
     ]
    },
    {
     "name": "stdout",
     "output_type": "stream",
     "text": [
      "[<Record paper='10.3390/APP8081280' score=1.48875>, <Record paper='10.3390/a17090419' score=1.48875>, <Record paper='10.1016/J.PSEP.2019.01.013' score=1.4249999999999998>, <Record paper='10.1055/a-1885-1697' score=1.4249999999999998>, <Record paper='10.2139/ssrn.3935555' score=1.4249999999999998>, <Record paper='10.1371/journal.pone.0312395' score=1.4249999999999998>, <Record paper='10.4103/jmss.jmss_47_23' score=1.4249999999999998>, <Record paper='10.3390/ijerph21050521' score=1.4249999999999998>, <Record paper='10.1016/j.euroneuro.2020.03.016' score=1.4249999999999998>, <Record paper='10.1016/j.dt.2024.06.004' score=1.4249999999999998>]\n"
     ]
    }
   ],
   "source": [
    "\n",
    "# Run weighted PageRank\n",
    "query = \"\"\"\n",
    "CALL gds.pageRank.stream('citationGraph')\n",
    "YIELD nodeId, score\n",
    "MATCH (p:Paper) WHERE id(p) = nodeId\n",
    "RETURN p.DOI AS paper, score\n",
    "ORDER BY score desc\n",
    "LIMIT 10\n",
    "\"\"\"\n",
    "\n",
    "result = session.run(query)\n",
    "print([record for record in result])"
   ]
  }
 ],
 "metadata": {
  "kernelspec": {
   "display_name": "Python 3",
   "language": "python",
   "name": "python3"
  },
  "language_info": {
   "codemirror_mode": {
    "name": "ipython",
    "version": 3
   },
   "file_extension": ".py",
   "mimetype": "text/x-python",
   "name": "python",
   "nbconvert_exporter": "python",
   "pygments_lexer": "ipython3",
   "version": "3.13.0"
  }
 },
 "nbformat": 4,
 "nbformat_minor": 2
}
