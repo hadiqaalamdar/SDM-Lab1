{
 "cells": [
  {
   "cell_type": "code",
   "execution_count": 56,
   "metadata": {},
   "outputs": [],
   "source": [
    "from semanticscholar import SemanticScholar\n",
    "import csv\n",
    "import pandas as pd\n",
    "import random\n",
    "import json\n",
    "import shutil\n",
    "import numpy as np\n",
    "\n",
    "import os\n",
    "from neo4j import GraphDatabase\n"
   ]
  },
  {
   "cell_type": "code",
   "execution_count": 57,
   "metadata": {},
   "outputs": [],
   "source": [
    "NEO4J_URI = \"bolt://localhost:7687\"  # Default for Neo4j Desktop\n",
    "NEO4J_USER = \"neo4j\"\n",
    "NEO4J_PASSWORD = \"pass1234\"  # Change this to your actual password\n",
    "IMPORT_FOLDER = os.path.expanduser(\"~/Library/Application Support/Neo4j Desktop/Application/relate-data/dbmss/dbms-6f9440a9-c56d-4ebc-b244-90d92b771350/import/\")"
   ]
  },
  {
   "cell_type": "code",
   "execution_count": 58,
   "metadata": {},
   "outputs": [],
   "source": [
    "driver = GraphDatabase.driver(NEO4J_URI, auth=(NEO4J_USER, NEO4J_PASSWORD))\n",
    "\n",
    "session = driver.session() "
   ]
  },
  {
   "cell_type": "code",
   "execution_count": 59,
   "metadata": {},
   "outputs": [],
   "source": [
    "# Function to generate review comments\n",
    "def generate_review_comment(decision):\n",
    "    if decision == 1:  \n",
    "        return random.choice([\n",
    "            \"This paper makes a significant contribution.\",\n",
    "            \"Findings are novel.\",\n",
    "            \"Well-written and clear paper.\",\n",
    "            \"Good Experimental scheme.\" ])\n",
    "    else:  \n",
    "        return random.choice([\n",
    "            \"The methodology has flaws.\",\n",
    "            \"Minor and unclear contribution.\",\n",
    "            \"TNo novelty.\",\n",
    "            \"Bad writing quality\" ])"
   ]
  },
  {
   "cell_type": "code",
   "execution_count": 60,
   "metadata": {},
   "outputs": [],
   "source": [
    "# Add property 'decision' for review relationship\n",
    "\n",
    "# First generate fake reviews decisions \n",
    "reviews_df = pd.read_csv(\"reviews.csv\")\n",
    "reviews_df[\"Decision\"] = np.random.choice([0, 1], size=len(reviews_df))\n",
    "reviews_df[\"Comment\"] = reviews_df.apply(lambda x: generate_review_comment(x[\"Decision\"]), axis=1)\n",
    "\n",
    "# Save to CSV\n",
    "reviews_df[[\"Paper_DOI\", \"Reviewer_ID\", \"Decision\", \"Comment\"]].to_csv(\"reviews_decisions.csv\", index=False)\n"
   ]
  },
  {
   "cell_type": "code",
   "execution_count": 61,
   "metadata": {},
   "outputs": [
    {
     "data": {
      "text/plain": [
       "<neo4j._sync.work.result.Result at 0x12bd04a50>"
      ]
     },
     "execution_count": 61,
     "metadata": {},
     "output_type": "execute_result"
    }
   ],
   "source": [
    "# Cypher to update reviews\n",
    "shutil.copy(\"reviews_decisions.csv\", IMPORT_FOLDER)\n",
    "\n",
    "query = \"\"\"\n",
    "            LOAD CSV WITH HEADERS FROM 'file:///reviews_decisions.csv' AS row\n",
    "            MATCH (a:Author {ID: toInteger(row.Reviewer_ID)})-[r:Reviews]->(p:Paper {DOI: row.Paper_DOI})\n",
    "            SET r.decision = row.Decision, r.comment=row.Comment\n",
    "        \"\"\"\n",
    "\n",
    "session.run(query)\n"
   ]
  },
  {
   "cell_type": "code",
   "execution_count": 62,
   "metadata": {},
   "outputs": [
    {
     "data": {
      "text/plain": [
       "<neo4j._sync.work.result.Result at 0x12c37c550>"
      ]
     },
     "execution_count": 62,
     "metadata": {},
     "output_type": "execute_result"
    }
   ],
   "source": [
    "# Cypher to set final decision of a paper\n",
    "query = \"\"\"\n",
    "            MATCH (a:Author)-[r:Reviews]->(p:Paper)\n",
    "            WITH p, SUM(toInteger(r.decision)) AS total_decision\n",
    "            SET p.Acceptance = (total_decision >= 2)\n",
    "        \"\"\"\n",
    "\n",
    "session.run(query)"
   ]
  },
  {
   "cell_type": "code",
   "execution_count": 63,
   "metadata": {},
   "outputs": [],
   "source": [
    "# Assign Synthetic Affiliations to authors \n",
    "\n",
    "authors_df = pd.read_csv(\"Author_nodes.csv\")\n",
    "\n",
    "# Generate lists of possible affiliations\n",
    "universities = [\n",
    "    \"Universitat Politecnica de Catalunya\", \"Stanford University\", \"MIT\", \n",
    "    \"Harvard University\", \"University of California, Berkeley\", \"ETH Zurich\",\n",
    "    \"University of Toronto\", \"University of Cambridge\",\n",
    "]\n",
    "\n",
    "companies = [\n",
    "    \"Google Research\", \"Microsoft Research\", \"Meta AI\",\n",
    "    \"DeepMind\", \"OpenAI\", \"IBM Research\", \"AWS\",\n",
    "    \"NVIDIA Research\", \"Adobe Research\", \"Intel Labs\"\n",
    "]\n",
    "\n",
    "all_affiliations = universities + companies\n"
   ]
  },
  {
   "cell_type": "code",
   "execution_count": 64,
   "metadata": {},
   "outputs": [],
   "source": [
    "affiliations = []\n",
    "for _,auth in authors_df.iterrows():\n",
    "    affiliations.append({\n",
    "        \"Author_ID\" : auth[\"Author_ID\"],\n",
    "        \"Affiliation\" : random.choice(all_affiliations)\n",
    "    })\n",
    "\n",
    "affiliations_df = pd.DataFrame(affiliations)\n",
    "affiliations_df.to_csv(\"affiliations.csv\", index=False)"
   ]
  },
  {
   "cell_type": "code",
   "execution_count": null,
   "metadata": {},
   "outputs": [],
   "source": [
    "# Cypher Query to update authors\n",
    "shutil.copy(\"affiliations.csv\", IMPORT_FOLDER)\n",
    "\n",
    "query = \"\"\"\n",
    "            LOAD CSV WITH HEADERS FROM \"file:///affiliations.csv\" AS row\n",
    "            MATCH (a:Author {ID: toInteger(row.Author_ID)})\n",
    "            SET a.affiliation = row.Affiliation\n",
    "        \"\"\"\n",
    "\n",
    "session.run(query)\n"
   ]
  }
 ],
 "metadata": {
  "kernelspec": {
   "display_name": "Python 3",
   "language": "python",
   "name": "python3"
  },
  "language_info": {
   "codemirror_mode": {
    "name": "ipython",
    "version": 3
   },
   "file_extension": ".py",
   "mimetype": "text/x-python",
   "name": "python",
   "nbconvert_exporter": "python",
   "pygments_lexer": "ipython3",
   "version": "3.13.0"
  }
 },
 "nbformat": 4,
 "nbformat_minor": 2
}
