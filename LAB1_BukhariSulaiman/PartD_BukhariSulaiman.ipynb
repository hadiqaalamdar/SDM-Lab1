{
 "cells": [
  {
   "cell_type": "code",
   "execution_count": null,
   "metadata": {},
   "outputs": [],
   "source": [
    "from semanticscholar import SemanticScholar\n",
    "import csv\n",
    "import pandas as pd\n",
    "import random\n",
    "import json\n",
    "import shutil\n",
    "import numpy as np\n",
    "\n",
    "import os\n",
    "from neo4j import GraphDatabase\n"
   ]
  },
  {
   "cell_type": "code",
   "execution_count": null,
   "metadata": {},
   "outputs": [],
   "source": [
    "NEO4J_URI = \"bolt://localhost:7687\"  # Default for Neo4j Desktop\n",
    "NEO4J_USER = \"neo4j\"\n",
    "NEO4J_PASSWORD = \"pass1234\"  # Change this to your actual password\n",
    "IMPORT_FOLDER = os.path.expanduser(\"~/Library/Application Support/Neo4j Desktop/Application/relate-data/dbmss/dbms-6f9440a9-c56d-4ebc-b244-90d92b771350/import/\")"
   ]
  },
  {
   "cell_type": "code",
   "execution_count": null,
   "metadata": {},
   "outputs": [],
   "source": [
    "driver = GraphDatabase.driver(NEO4J_URI, auth=(NEO4J_USER, NEO4J_PASSWORD))\n",
    "\n",
    "session = driver.session() "
   ]
  },
  {
   "cell_type": "markdown",
   "metadata": {},
   "source": [
    "1. Node Similarity Algorithm: For Paper Similarity Based on Topics "
   ]
  },
  {
   "cell_type": "code",
   "execution_count": null,
   "metadata": {},
   "outputs": [],
   "source": [
    "# drop projected graph if exists\n",
    "\n",
    "query = \"\"\"CALL gds.graph.drop('paperTopicGraph', false)\"\"\"\n",
    "result = session.run(query)\n",
    "\n",
    "print([record for record in result])\n"
   ]
  },
  {
   "cell_type": "code",
   "execution_count": null,
   "metadata": {},
   "outputs": [],
   "source": [
    "# Check similarity (project the graph, run algorith, and retrun similariy)\n",
    "\n",
    "query = \"\"\"\n",
    "        CALL gds.graph.project(\n",
    "        'paperTopicGraph',\n",
    "        ['Paper', 'Keyword'],\n",
    "        {\n",
    "            About: {\n",
    "            type: 'About',\n",
    "            orientation: 'UNDIRECTED'\n",
    "            }\n",
    "        }\n",
    "        )\n",
    "        \"\"\"\n",
    "result = session.run(query)\n",
    "\n",
    "print(list(result))"
   ]
  },
  {
   "cell_type": "code",
   "execution_count": null,
   "metadata": {},
   "outputs": [],
   "source": [
    "query = \"\"\"\n",
    "\n",
    "        CALL gds.nodeSimilarity.stream('paperTopicGraph')\n",
    "        YIELD node1, node2, similarity\n",
    "        RETURN \n",
    "        gds.util.asNode(node1).DOI AS Paper1_DOI,\n",
    "        gds.util.asNode(node2).DOI AS Paper2_DOI,\n",
    "        similarity\n",
    "        ORDER BY similarity DESC\n",
    "        Limit 10;\n",
    "\n",
    "        \"\"\"\n",
    "result = session.run(query)\n",
    "\n",
    "print(list(result))"
   ]
  },
  {
   "cell_type": "markdown",
   "metadata": {},
   "source": [
    "2. PageRank: Identifying the most influential papers in the network considering citations.\n",
    "\n",
    "This will help determine which papers are most influential based on how many other papers cite them and how important those citing papers are."
   ]
  },
  {
   "cell_type": "code",
   "execution_count": null,
   "metadata": {},
   "outputs": [],
   "source": [
    "# drop projected graph if exists\n",
    "\n",
    "query = \"\"\"CALL gds.graph.drop('citationGraph', false)\"\"\"\n",
    "result = session.run(query)\n",
    "\n",
    "print([record for record in result])"
   ]
  },
  {
   "cell_type": "code",
   "execution_count": null,
   "metadata": {},
   "outputs": [],
   "source": [
    "# Project the graph first\n",
    "query = \"\"\"\n",
    "CALL gds.graph.project(\n",
    "  'citationGraph',\n",
    "  'Paper',\n",
    "  {\n",
    "    Cited_by: {\n",
    "      type: 'Cited_by',\n",
    "      orientation: 'REVERSE'\n",
    "    }\n",
    "  }\n",
    ")\n",
    "\n",
    "\"\"\"\n",
    "\n",
    "result = session.run(query)\n",
    "print([record for record in result])\n"
   ]
  },
  {
   "cell_type": "code",
   "execution_count": null,
   "metadata": {},
   "outputs": [],
   "source": [
    "\n",
    "# Run weighted PageRank\n",
    "query = \"\"\"\n",
    "CALL gds.pageRank.stream('citationGraph')\n",
    "YIELD nodeId, score\n",
    "MATCH (p:Paper) WHERE id(p) = nodeId\n",
    "RETURN p.DOI AS paper, score\n",
    "ORDER BY score desc\n",
    "LIMIT 10\n",
    "\"\"\"\n",
    "\n",
    "result = session.run(query)\n",
    "print([record for record in result])"
   ]
  }
 ],
 "metadata": {
  "kernelspec": {
   "display_name": "bdm",
   "language": "python",
   "name": "python3"
  },
  "language_info": {
   "codemirror_mode": {
    "name": "ipython",
    "version": 3
   },
   "file_extension": ".py",
   "mimetype": "text/x-python",
   "name": "python",
   "nbconvert_exporter": "python",
   "pygments_lexer": "ipython3",
   "version": "3.12.9"
  }
 },
 "nbformat": 4,
 "nbformat_minor": 2
}
