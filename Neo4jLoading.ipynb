{
 "cells": [
  {
   "cell_type": "markdown",
   "metadata": {},
   "source": [
    "Setup of neo4j from desktop app:\n",
    "\n",
    "1. create new local db\n",
    "    Name: SDM_Lab1_Research\n",
    "    Username: neo4j\n",
    "    Password: pass1234\n",
    "\n",
    "2. Start the db\n"
   ]
  },
  {
   "cell_type": "code",
   "execution_count": 1,
   "metadata": {},
   "outputs": [
    {
     "name": "stdout",
     "output_type": "stream",
     "text": [
      "Collecting neo4j\n",
      "  Downloading neo4j-5.28.1-py3-none-any.whl.metadata (5.9 kB)\n",
      "Requirement already satisfied: pytz in /opt/anaconda3/envs/bdm/lib/python3.12/site-packages (from neo4j) (2025.2)\n",
      "Downloading neo4j-5.28.1-py3-none-any.whl (312 kB)\n",
      "Installing collected packages: neo4j\n",
      "Successfully installed neo4j-5.28.1\n",
      "Note: you may need to restart the kernel to use updated packages.\n"
     ]
    }
   ],
   "source": [
    "pip install neo4j\n"
   ]
  },
  {
   "cell_type": "code",
   "execution_count": 1,
   "metadata": {},
   "outputs": [],
   "source": [
    "import json\n",
    "import pandas as pd\n",
    "import os\n",
    "from neo4j import GraphDatabase"
   ]
  },
  {
   "cell_type": "code",
   "execution_count": 2,
   "metadata": {},
   "outputs": [],
   "source": [
    "NEO4J_URI = \"bolt://localhost:7687\"  # Default for Neo4j Desktop\n",
    "NEO4J_USER = \"neo4j\"\n",
    "NEO4J_PASSWORD = \"pass1234\"  # Change this to your actual password"
   ]
  },
  {
   "cell_type": "code",
   "execution_count": 92,
   "metadata": {},
   "outputs": [
    {
     "name": "stdout",
     "output_type": "stream",
     "text": [
      "✅ Database cleared!\n"
     ]
    }
   ],
   "source": [
    "from neo4j import GraphDatabase\n",
    "\n",
    "def clear_database():\n",
    "    driver = GraphDatabase.driver(NEO4J_URI, auth=(NEO4J_USER, NEO4J_PASSWORD))\n",
    "    with driver.session() as session:\n",
    "        session.run(\"MATCH (n) DETACH DELETE n\")\n",
    "    print(\"✅ Database cleared!\")\n",
    "\n",
    "clear_database()\n"
   ]
  },
  {
   "cell_type": "code",
   "execution_count": 93,
   "metadata": {},
   "outputs": [
    {
     "name": "stdout",
     "output_type": "stream",
     "text": [
      "Output: \u001b[34mdbms-29404aef-9580-4f81-bd23-77e2c98a7250\u001b[m\u001b[m\n",
      "\u001b[34mdbms-86175137-7373-4bde-86f1-3dbaa38e2ed2\u001b[m\u001b[m\n",
      "\n"
     ]
    },
    {
     "name": "stderr",
     "output_type": "stream",
     "text": [
      "<>:4: SyntaxWarning: invalid escape sequence '\\ '\n",
      "<>:4: SyntaxWarning: invalid escape sequence '\\ '\n",
      "/var/folders/pb/vqsbvkfj5c1_cstt1ckg6b9m0000gn/T/ipykernel_87544/3695089776.py:4: SyntaxWarning: invalid escape sequence '\\ '\n",
      "  result = subprocess.run(['sh', '-c', 'ls ~/Library/Application\\ Support/Neo4j\\ Desktop/Application/relate-data/dbmss'], capture_output=True, text=True)\n"
     ]
    }
   ],
   "source": [
    "import subprocess\n",
    "\n",
    "# Run a shell command\n",
    "result = subprocess.run(['sh', '-c', 'ls ~/Library/Application\\ Support/Neo4j\\ Desktop/Application/relate-data/dbmss'], capture_output=True, text=True)\n",
    "\n",
    "# Get the output\n",
    "print(\"Output:\", result.stdout)\n"
   ]
  },
  {
   "cell_type": "code",
   "execution_count": 94,
   "metadata": {},
   "outputs": [],
   "source": [
    "# copy the output above in the path here\n",
    "\n",
    "IMPORT_FOLDER = os.path.expanduser(\"~/Library/Application Support/Neo4j Desktop/Application/relate-data/dbmss/dbms-29404aef-9580-4f81-bd23-77e2c98a7250/import/\")\n",
    "\n"
   ]
  },
  {
   "cell_type": "markdown",
   "metadata": {},
   "source": [
    "\n",
    "- Nodes:\n",
    "\n",
    "1. Paper: doi, title, abstract, year, # citations\n",
    "2. Author: author id, name\n",
    "3. Conference: conf id, name \n",
    "4. Edition: edition id, edition year, conference id, proceeding name , city\n",
    "5. Journal: id, name\n",
    "6. Keyword/Topic: id, name\n",
    "\n",
    "- Relationship:\n",
    "1. author - writes -> paper : author id, paper doi\n",
    "2. author - corresponding author of -> paper : : author id, paper doi\n",
    "3. paper - cited by -> paper : DOI1, DOI2\n",
    "4. paper - about -> keyword: doi, keyword id\n",
    "5. paper - published in ({volume}) -> journel : doi, journal id , volume number , pages, year\n",
    "6. paper - published in -> conference/workshop edition : doi, edition id , pages\n",
    "7. edition - of -> conference/workshop : edition id, conf id"
   ]
  },
  {
   "cell_type": "code",
   "execution_count": 95,
   "metadata": {},
   "outputs": [
    {
     "name": "stdout",
     "output_type": "stream",
     "text": [
      "Concatenated data without duplicates has been saved to 'Paper_nodes.csv'\n"
     ]
    }
   ],
   "source": [
    "# Paper nodes csv \n",
    "\n",
    "import pandas as pd\n",
    "\n",
    "papers_df = pd.read_csv(\"papers.csv\")\n",
    "referenced_df = pd.read_csv(\"referenced_papers.csv\")\n",
    "\n",
    "concatenated_df = pd.concat([papers_df, referenced_df], ignore_index=True)\n",
    "\n",
    "concatenated_df = concatenated_df.drop_duplicates(subset=[\"DOI\"], keep=\"first\")\n",
    "\n",
    "selected_columns = [\"DOI\", \"Title\", \"Abstract\", \"Year\", \"publicationDate\", \"Citations\", \"References\", \"URL\"]\n",
    "filtered_df = concatenated_df[selected_columns]\n",
    "\n",
    "filtered_df.loc[:, 'Abstract'] = filtered_df['Abstract'].str.replace(r'\\\"\\\"', '', regex=True)\n",
    "\n",
    "# Save the cleaned DataFrame to a new CSV file\n",
    "filtered_df.to_csv(\"Paper_nodes.csv\", index=False)\n",
    "\n",
    "print(\"Concatenated data without duplicates has been saved to 'Paper_nodes.csv'\")\n"
   ]
  },
  {
   "cell_type": "code",
   "execution_count": 96,
   "metadata": {},
   "outputs": [
    {
     "name": "stdout",
     "output_type": "stream",
     "text": [
      "Concatenated data without duplicates has been saved to 'Author_nodes.csv'\n"
     ]
    }
   ],
   "source": [
    "# Author nodes csv \n",
    "\n",
    "authors_df = pd.read_csv(\"authors.csv\")\n",
    "ref_authors_df = pd.read_csv(\"ref_authors.csv\")\n",
    "\n",
    "\n",
    "concatenated_df = pd.concat([authors_df, ref_authors_df], ignore_index=True)\n",
    "\n",
    "concatenated_df = concatenated_df.drop_duplicates(subset=[\"Author_ID\"], keep=\"first\")\n",
    "\n",
    "\n",
    "# Save the cleaned DataFrame to a new CSV file\n",
    "concatenated_df.to_csv(\"Author_nodes.csv\", index=False)\n",
    "\n",
    "print(\"Concatenated data without duplicates has been saved to 'Author_nodes.csv'\")\n"
   ]
  },
  {
   "cell_type": "code",
   "execution_count": 97,
   "metadata": {},
   "outputs": [],
   "source": [
    "# # Separate Journal and Conference \n",
    "\n",
    "# journal_papers_df = papers_df[papers_df[\"publicationType\"]==\"journal\"]\n",
    "# journal_ref_papers_df = referenced_df[referenced_df[\"publicationType\"]==\"journal\"]\n",
    "\n",
    "# journal_papers_concat = pd.concat([journal_papers_df,journal_ref_papers_df], ignore_index=True)\n",
    "\n",
    "# conf_papers_df = papers_df[papers_df[\"publicationType\"]==\"conference\"]\n",
    "# conf_ref_papers_df = referenced_df[referenced_df[\"publicationType\"]==\"conference\"]\n",
    "\n",
    "# conf_papers_concat = pd.concat([conf_papers_df,conf_ref_papers_df], ignore_index=True)"
   ]
  },
  {
   "cell_type": "code",
   "execution_count": 98,
   "metadata": {},
   "outputs": [],
   "source": [
    "# ########### Handle \n",
    "# referenced_df[referenced_df[\"publicationType\"]==\"Unknown\"]"
   ]
  },
  {
   "cell_type": "code",
   "execution_count": 99,
   "metadata": {},
   "outputs": [
    {
     "data": {
      "text/plain": [
       "'/Users/hadiqa/Library/Application Support/Neo4j Desktop/Application/relate-data/dbmss/dbms-29404aef-9580-4f81-bd23-77e2c98a7250/import/conference_editions.csv'"
      ]
     },
     "execution_count": 99,
     "metadata": {},
     "output_type": "execute_result"
    }
   ],
   "source": [
    "import shutil\n",
    "shutil.copy(\"Paper_nodes.csv\", IMPORT_FOLDER)\n",
    "shutil.copy(\"Author_nodes.csv\", IMPORT_FOLDER)\n",
    "shutil.copy(\"fields_of_study.csv\", IMPORT_FOLDER)\n",
    "shutil.copy(\"conferences.csv\", IMPORT_FOLDER)\n",
    "shutil.copy(\"journals.csv\", IMPORT_FOLDER)\n",
    "shutil.copy(\"conference_editions.csv\", IMPORT_FOLDER)\n",
    "\n"
   ]
  },
  {
   "cell_type": "code",
   "execution_count": 100,
   "metadata": {},
   "outputs": [
    {
     "data": {
      "text/plain": [
       "<neo4j._sync.work.result.Result at 0x1484c4740>"
      ]
     },
     "execution_count": 100,
     "metadata": {},
     "output_type": "execute_result"
    }
   ],
   "source": [
    "driver = GraphDatabase.driver(NEO4J_URI, auth=(NEO4J_USER, NEO4J_PASSWORD))\n",
    "\n",
    "session = driver.session() \n",
    "\n",
    "# Load papers \n",
    "query =     \"\"\"\n",
    "            LOAD CSV WITH HEADERS FROM \"file:///Paper_nodes.csv\" AS row\n",
    "            CREATE (:Paper { DOI : row.DOI, title : row.Title, abstract : row.Abstract, year : toInteger(row.Year), \n",
    "            publicationDate : date(substring(row.publicationDate, 0, 10)), citationCount : toInteger(row.Citations), referenceCount : toInteger(row.References),\n",
    "            URL : row.URL})\n",
    "            \"\"\"\n",
    "session.run(query)\n",
    "\n"
   ]
  },
  {
   "cell_type": "code",
   "execution_count": 101,
   "metadata": {},
   "outputs": [
    {
     "data": {
      "text/plain": [
       "<neo4j._sync.work.result.Result at 0x13f6fec90>"
      ]
     },
     "execution_count": 101,
     "metadata": {},
     "output_type": "execute_result"
    }
   ],
   "source": [
    "# Load Authors \n",
    "\n",
    "query =     \"\"\"\n",
    "            LOAD CSV WITH HEADERS FROM \"file:///Author_nodes.csv\" AS row\n",
    "            CREATE (:Author { ID : toInteger(row.Author_ID), Name: row.Author_Name})\n",
    "            \"\"\"\n",
    "session.run(query)"
   ]
  },
  {
   "cell_type": "code",
   "execution_count": 102,
   "metadata": {},
   "outputs": [
    {
     "data": {
      "text/plain": [
       "<neo4j._sync.work.result.Result at 0x148274bf0>"
      ]
     },
     "execution_count": 102,
     "metadata": {},
     "output_type": "execute_result"
    }
   ],
   "source": [
    "# Load Keywords \n",
    "\n",
    "query =     \"\"\"\n",
    "            LOAD CSV WITH HEADERS FROM \"file:///fields_of_study.csv\" AS row\n",
    "            CREATE (:Keyword { ID : row.Field_ID, Name: row.Field_Name})\n",
    "            \"\"\"\n",
    "session.run(query)"
   ]
  },
  {
   "cell_type": "code",
   "execution_count": 103,
   "metadata": {},
   "outputs": [
    {
     "data": {
      "text/plain": [
       "<neo4j._sync.work.result.Result at 0x13f422030>"
      ]
     },
     "execution_count": 103,
     "metadata": {},
     "output_type": "execute_result"
    }
   ],
   "source": [
    "# Load conferences\n",
    "query =     \"\"\"\n",
    "            LOAD CSV WITH HEADERS FROM \"file:///conferences.csv\" AS row\n",
    "            CREATE (:Conference { ID : row.ID, Name: row.Name, URL: row.url})\n",
    "            \"\"\"\n",
    "session.run(query)"
   ]
  },
  {
   "cell_type": "code",
   "execution_count": 104,
   "metadata": {},
   "outputs": [
    {
     "data": {
      "text/plain": [
       "<neo4j._sync.work.result.Result at 0x13f4229c0>"
      ]
     },
     "execution_count": 104,
     "metadata": {},
     "output_type": "execute_result"
    }
   ],
   "source": [
    "# Load Editions\n",
    "query =     \"\"\"\n",
    "            LOAD CSV WITH HEADERS FROM \"file:///conference_editions.csv\" AS row\n",
    "            CREATE (:Conference_Edition { ID : row.Edition_ID, Venue_ID: row.Venue_ID, Year:row.Year, Proceeding: row.Proceeding_Name})\n",
    "            \"\"\"\n",
    "session.run(query)"
   ]
  },
  {
   "cell_type": "code",
   "execution_count": 105,
   "metadata": {},
   "outputs": [
    {
     "data": {
      "text/plain": [
       "<neo4j._sync.work.result.Result at 0x13f68fb60>"
      ]
     },
     "execution_count": 105,
     "metadata": {},
     "output_type": "execute_result"
    }
   ],
   "source": [
    "# Load Journals\n",
    "query =     \"\"\"\n",
    "            LOAD CSV WITH HEADERS FROM \"file:///journals.csv\" AS row\n",
    "            CREATE (:Journal { ID : row.ID, Name: row.Name, ISSN: row.issn, URL: row.url})\n",
    "            \"\"\"\n",
    "session.run(query)"
   ]
  },
  {
   "cell_type": "markdown",
   "metadata": {},
   "source": [
    "Relationships"
   ]
  },
  {
   "cell_type": "code",
   "execution_count": 106,
   "metadata": {},
   "outputs": [
    {
     "data": {
      "text/plain": [
       "'/Users/hadiqa/Library/Application Support/Neo4j Desktop/Application/relate-data/dbmss/dbms-29404aef-9580-4f81-bd23-77e2c98a7250/import/references.csv'"
      ]
     },
     "execution_count": 106,
     "metadata": {},
     "output_type": "execute_result"
    }
   ],
   "source": [
    "shutil.copy(\"author_paper_relationship.csv\", IMPORT_FOLDER)\n",
    "shutil.copy(\"ref_author_paper_relationship.csv\", IMPORT_FOLDER)\n",
    "shutil.copy(\"paper_field_relationship.csv\", IMPORT_FOLDER)\n",
    "shutil.copy(\"ref_paper_field_relationship.csv\", IMPORT_FOLDER)\n",
    "shutil.copy(\"references.csv\", IMPORT_FOLDER)\n"
   ]
  },
  {
   "cell_type": "code",
   "execution_count": 107,
   "metadata": {},
   "outputs": [
    {
     "data": {
      "text/plain": [
       "<neo4j._sync.work.result.Result at 0x30572cfe0>"
      ]
     },
     "execution_count": 107,
     "metadata": {},
     "output_type": "execute_result"
    }
   ],
   "source": [
    "# Writes\n",
    "query =    \"\"\"LOAD CSV WITH HEADERS FROM 'file:///author_paper_relationship.csv' AS row\n",
    "            MATCH (a:Author {ID: toInteger(row.Author_ID)}), (p:Paper {DOI: row.DOI})\n",
    "            MERGE (a)-[w:Writes]->(p)\n",
    "            \"\"\"\n",
    "session.run(query)"
   ]
  },
  {
   "cell_type": "code",
   "execution_count": 108,
   "metadata": {},
   "outputs": [
    {
     "data": {
      "text/plain": [
       "<neo4j._sync.work.result.Result at 0x148274d10>"
      ]
     },
     "execution_count": 108,
     "metadata": {},
     "output_type": "execute_result"
    }
   ],
   "source": [
    "# Corresponding\n",
    "query =    \"\"\"LOAD CSV WITH HEADERS FROM 'file:///author_paper_relationship.csv' AS row\n",
    "            MATCH (a:Author {ID: toInteger(row.Author_ID)}), (p:Paper {DOI: row.DOI})\n",
    "            WHERE toBoolean(row.Corresponding) = True\n",
    "            MERGE (a)-[:Corresponding_of]->(p);  // Creating a separate edge for corresponding authors\n",
    "            \"\"\"\n",
    "session.run(query)"
   ]
  },
  {
   "cell_type": "code",
   "execution_count": 109,
   "metadata": {},
   "outputs": [
    {
     "data": {
      "text/plain": [
       "<neo4j._sync.work.result.Result at 0x13f2b2f90>"
      ]
     },
     "execution_count": 109,
     "metadata": {},
     "output_type": "execute_result"
    }
   ],
   "source": [
    "# Writes (referenced papers)\n",
    "\n",
    "query =    \"\"\"LOAD CSV WITH HEADERS FROM 'file:///ref_author_paper_relationship.csv' AS row\n",
    "            MATCH (a:Author {ID: toInteger(row.Author_ID)}), (p:Paper {DOI: row.DOI})\n",
    "            MERGE (a)-[w:Writes]->(p)\n",
    "            \"\"\"\n",
    "session.run(query)"
   ]
  },
  {
   "cell_type": "code",
   "execution_count": 110,
   "metadata": {},
   "outputs": [
    {
     "data": {
      "text/plain": [
       "<neo4j._sync.work.result.Result at 0x13f4229f0>"
      ]
     },
     "execution_count": 110,
     "metadata": {},
     "output_type": "execute_result"
    }
   ],
   "source": [
    "# Corresponding (referenced papers)\n",
    "\n",
    "query =    \"\"\"LOAD CSV WITH HEADERS FROM 'file:///ref_author_paper_relationship.csv' AS row\n",
    "            MATCH (a:Author {ID: toInteger(row.Author_ID)}), (p:Paper {DOI: row.DOI})\n",
    "            WHERE toBoolean(row.Corresponding) = True\n",
    "            MERGE (a)-[:Corresponding_of]->(p);  // Creating a separate edge for corresponding authors\n",
    "            \"\"\"\n",
    "session.run(query)"
   ]
  },
  {
   "cell_type": "code",
   "execution_count": 111,
   "metadata": {},
   "outputs": [
    {
     "data": {
      "text/plain": [
       "<neo4j._sync.work.result.Result at 0x13f7b87d0>"
      ]
     },
     "execution_count": 111,
     "metadata": {},
     "output_type": "execute_result"
    }
   ],
   "source": [
    "# Cited by\n",
    "\n",
    "query =    \"\"\"LOAD CSV WITH HEADERS FROM 'file:///references.csv' AS row\n",
    "            MATCH (p:Paper {DOI: row.Paper_DOI}), (r:Paper {DOI: row.Reference_DOI})\n",
    "            MERGE (p)-[:Cited_by]->(r);  \n",
    "            \"\"\"\n",
    "session.run(query)"
   ]
  },
  {
   "cell_type": "code",
   "execution_count": 112,
   "metadata": {},
   "outputs": [
    {
     "data": {
      "text/plain": [
       "<neo4j._sync.work.result.Result at 0x13f2b1c40>"
      ]
     },
     "execution_count": 112,
     "metadata": {},
     "output_type": "execute_result"
    }
   ],
   "source": [
    "# About\n",
    "\n",
    "query =    \"\"\"LOAD CSV WITH HEADERS FROM 'file:///paper_field_relationship.csv' AS row\n",
    "            MATCH (p:Paper {DOI: row.DOI}), (k:Keyword {ID: row.Field_ID})\n",
    "            MERGE (p)-[:About]->(k);  \n",
    "            \"\"\"\n",
    "session.run(query)"
   ]
  },
  {
   "cell_type": "code",
   "execution_count": 113,
   "metadata": {},
   "outputs": [
    {
     "data": {
      "text/plain": [
       "<neo4j._sync.work.result.Result at 0x305766db0>"
      ]
     },
     "execution_count": 113,
     "metadata": {},
     "output_type": "execute_result"
    }
   ],
   "source": [
    "# About (referenced)\n",
    "\n",
    "query =    \"\"\"LOAD CSV WITH HEADERS FROM 'file:///ref_paper_field_relationship.csv' AS row\n",
    "            MATCH (p:Paper {DOI: row.DOI}), (k:Keyword {ID: row.Field_ID})\n",
    "            MERGE (p)-[:About]->(k);  \n",
    "            \"\"\"\n",
    "session.run(query)"
   ]
  },
  {
   "cell_type": "code",
   "execution_count": 114,
   "metadata": {},
   "outputs": [
    {
     "data": {
      "text/plain": [
       "<neo4j._sync.work.result.Result at 0x13f5a5340>"
      ]
     },
     "execution_count": 114,
     "metadata": {},
     "output_type": "execute_result"
    }
   ],
   "source": [
    "# Edition of\n",
    "\n",
    "query =    \"\"\"LOAD CSV WITH HEADERS FROM 'file:///conference_editions.csv' AS row\n",
    "            MATCH (e:Conference_Edition {ID: row.Edition_ID}), (c:Conference {ID: row.Venue_ID})\n",
    "            MERGE (e)-[:Of]->(c);  \n",
    "            \"\"\"\n",
    "session.run(query)"
   ]
  },
  {
   "cell_type": "code",
   "execution_count": 115,
   "metadata": {},
   "outputs": [],
   "source": [
    "\n",
    "# Separate Journal and Conference \n",
    "\n",
    "journal_papers_df = papers_df[papers_df[\"publicationType\"]==\"journal\"]\n",
    "journal_ref_papers_df = referenced_df[referenced_df[\"publicationType\"]==\"journal\"]\n",
    "\n",
    "journal_papers_concat = pd.concat([journal_papers_df,journal_ref_papers_df], ignore_index=True)\n",
    "\n",
    "conf_papers_df = papers_df[papers_df[\"publicationType\"]==\"conference\"]\n",
    "conf_ref_papers_df = referenced_df[referenced_df[\"publicationType\"]==\"conference\"]\n",
    "\n",
    "conf_papers_concat = pd.concat([conf_papers_df,conf_ref_papers_df], ignore_index=True)"
   ]
  },
  {
   "cell_type": "code",
   "execution_count": 116,
   "metadata": {},
   "outputs": [],
   "source": [
    "conf_papers_concat['edition_id'] = conf_papers_concat['edition_id'].astype(str)\n"
   ]
  },
  {
   "cell_type": "code",
   "execution_count": 117,
   "metadata": {},
   "outputs": [],
   "source": [
    "journal_papers_concat.to_csv(\"Journal_papers.csv\", index=False)\n",
    "conf_papers_concat.to_csv(\"Conference_papers.csv\", index=False)\n"
   ]
  },
  {
   "cell_type": "code",
   "execution_count": 118,
   "metadata": {},
   "outputs": [
    {
     "data": {
      "text/plain": [
       "'/Users/hadiqa/Library/Application Support/Neo4j Desktop/Application/relate-data/dbmss/dbms-29404aef-9580-4f81-bd23-77e2c98a7250/import/Conference_papers.csv'"
      ]
     },
     "execution_count": 118,
     "metadata": {},
     "output_type": "execute_result"
    }
   ],
   "source": [
    "shutil.copy(\"Journal_papers.csv\", IMPORT_FOLDER)\n",
    "shutil.copy(\"Conference_papers.csv\", IMPORT_FOLDER)"
   ]
  },
  {
   "cell_type": "markdown",
   "metadata": {},
   "source": [
    "Note that the referenced papers might have NaN calue for venue id, or edition id , so we might have some papers not matched with editions of journals -> decide whether to filter them out in the first script/ keep them like this/assign to them random venues?\n",
    "\n",
    "Also, rn we have an edition with \"Unknown\" venue id, which all papers with \"Unknown\" venue id matches to"
   ]
  },
  {
   "cell_type": "code",
   "execution_count": 119,
   "metadata": {},
   "outputs": [
    {
     "data": {
      "text/plain": [
       "<neo4j._sync.work.result.Result at 0x13f568b00>"
      ]
     },
     "execution_count": 119,
     "metadata": {},
     "output_type": "execute_result"
    }
   ],
   "source": [
    "# Published_in\n",
    "\n",
    "query =    \"\"\"LOAD CSV WITH HEADERS FROM 'file:///Journal_papers.csv' AS row\n",
    "            MATCH (p:Paper {DOI: row.DOI}), (j:Journal {ID: row.venue_id})\n",
    "            MERGE (p)-[r:Published_in]->(j)\n",
    "            SET r.volume_number = row.volume,\n",
    "                r.pages = row.pages,\n",
    "                r.year = toInteger(row.Year);\n",
    "            \"\"\"\n",
    "session.run(query)"
   ]
  },
  {
   "cell_type": "code",
   "execution_count": 120,
   "metadata": {},
   "outputs": [
    {
     "data": {
      "text/plain": [
       "<neo4j._sync.work.result.Result at 0x13f56bbc0>"
      ]
     },
     "execution_count": 120,
     "metadata": {},
     "output_type": "execute_result"
    }
   ],
   "source": [
    "\n",
    "query =    \"\"\"LOAD CSV WITH HEADERS FROM 'file:///Conference_papers.csv' AS row\n",
    "            MATCH (p:Paper {DOI: row.DOI}), (e:Conference_Edition {ID: row.edition_id})\n",
    "            MERGE (p)-[r:Published_in]->(e)\n",
    "            SET r.pages = row.pages;\n",
    "            \"\"\"\n",
    "session.run(query)"
   ]
  },
  {
   "cell_type": "code",
   "execution_count": null,
   "metadata": {},
   "outputs": [],
   "source": []
  },
  {
   "cell_type": "code",
   "execution_count": null,
   "metadata": {},
   "outputs": [],
   "source": []
  }
 ],
 "metadata": {
  "kernelspec": {
   "display_name": "bdm",
   "language": "python",
   "name": "python3"
  },
  "language_info": {
   "codemirror_mode": {
    "name": "ipython",
    "version": 3
   },
   "file_extension": ".py",
   "mimetype": "text/x-python",
   "name": "python",
   "nbconvert_exporter": "python",
   "pygments_lexer": "ipython3",
   "version": "3.12.9"
  }
 },
 "nbformat": 4,
 "nbformat_minor": 2
}
