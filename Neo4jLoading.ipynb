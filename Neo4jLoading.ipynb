{
 "cells": [
  {
   "cell_type": "markdown",
   "metadata": {},
   "source": [
    "Setup of neo4j from desktop app:\n",
    "\n",
    "1. create new local db\n",
    "    Name: SDM_Lab1_Research\n",
    "    Username: neo4j\n",
    "    Password: pass1234\n",
    "\n",
    "2. Start the db\n"
   ]
  },
  {
   "cell_type": "code",
   "execution_count": 35,
   "metadata": {},
   "outputs": [
    {
     "name": "stdout",
     "output_type": "stream",
     "text": [
      "Requirement already satisfied: neo4j in /Library/Frameworks/Python.framework/Versions/3.13/lib/python3.13/site-packages (5.28.1)\n",
      "Requirement already satisfied: pytz in /Library/Frameworks/Python.framework/Versions/3.13/lib/python3.13/site-packages (from neo4j) (2024.2)\n",
      "Note: you may need to restart the kernel to use updated packages.\n"
     ]
    }
   ],
   "source": [
    "pip install neo4j\n"
   ]
  },
  {
   "cell_type": "code",
   "execution_count": 36,
   "metadata": {},
   "outputs": [],
   "source": [
    "import pandas as pd\n",
    "import os\n",
    "from neo4j import GraphDatabase"
   ]
  },
  {
   "cell_type": "code",
   "execution_count": 37,
   "metadata": {},
   "outputs": [],
   "source": [
    "NEO4J_URI = \"bolt://localhost:7687\"  # Default for Neo4j Desktop\n",
    "NEO4J_USER = \"neo4j\"\n",
    "NEO4J_PASSWORD = \"pass1234\"  # Change this to your actual password"
   ]
  },
  {
   "cell_type": "code",
   "execution_count": 45,
   "metadata": {},
   "outputs": [
    {
     "name": "stdout",
     "output_type": "stream",
     "text": [
      "✅ Database cleared!\n"
     ]
    }
   ],
   "source": [
    "from neo4j import GraphDatabase\n",
    "\n",
    "def clear_database():\n",
    "    driver = GraphDatabase.driver(NEO4J_URI, auth=(NEO4J_USER, NEO4J_PASSWORD))\n",
    "    with driver.session() as session:\n",
    "        session.run(\"MATCH (n) DETACH DELETE n\")\n",
    "    print(\"✅ Database cleared!\")\n",
    "\n",
    "clear_database()\n"
   ]
  },
  {
   "cell_type": "code",
   "execution_count": 39,
   "metadata": {},
   "outputs": [
    {
     "name": "stdout",
     "output_type": "stream",
     "text": [
      "Output: \u001b[34mdbms-6f9440a9-c56d-4ebc-b244-90d92b771350\u001b[m\u001b[m\n",
      "\n"
     ]
    },
    {
     "name": "stderr",
     "output_type": "stream",
     "text": [
      "<>:4: SyntaxWarning: invalid escape sequence '\\ '\n",
      "<>:4: SyntaxWarning: invalid escape sequence '\\ '\n",
      "/var/folders/lr/ysc7n3fx6sv02d60ctrl7k_r0000gn/T/ipykernel_4017/3695089776.py:4: SyntaxWarning: invalid escape sequence '\\ '\n",
      "  result = subprocess.run(['sh', '-c', 'ls ~/Library/Application\\ Support/Neo4j\\ Desktop/Application/relate-data/dbmss'], capture_output=True, text=True)\n"
     ]
    }
   ],
   "source": [
    "import subprocess\n",
    "\n",
    "# Run a shell command\n",
    "result = subprocess.run(['sh', '-c', 'ls ~/Library/Application\\ Support/Neo4j\\ Desktop/Application/relate-data/dbmss'], capture_output=True, text=True)\n",
    "\n",
    "# Get the output\n",
    "print(\"Output:\", result.stdout)\n"
   ]
  },
  {
   "cell_type": "code",
   "execution_count": 40,
   "metadata": {},
   "outputs": [],
   "source": [
    "# copy the output above in the path here\n",
    "\n",
    "IMPORT_FOLDER = os.path.expanduser(\"~/Library/Application Support/Neo4j Desktop/Application/relate-data/dbmss/dbms-6f9440a9-c56d-4ebc-b244-90d92b771350/import/\")\n",
    "\n"
   ]
  },
  {
   "cell_type": "markdown",
   "metadata": {},
   "source": [
    "\n",
    "- Nodes:\n",
    "\n",
    "1. Paper: doi, title, abstract, year, # citations\n",
    "2. Author: author id, name\n",
    "3. Conference: conf id, name \n",
    "4. Edition: edition id, edition year, conference id, proceeding name , city\n",
    "5. Journal: id, name\n",
    "6. Keyword/Topic: id, name\n",
    "\n",
    "- Relationship:\n",
    "1. author - writes -> paper : author id, paper doi\n",
    "2. author - corresponding author of -> paper : : author id, paper doi\n",
    "3. paper - cited by -> paper : DOI1, DOI2\n",
    "4. paper - about -> keyword: doi, keyword id\n",
    "5. paper - published in ({volume}) -> journel : doi, journal id , volume number , pages, year\n",
    "6. paper - published in -> conference/workshop edition : doi, edition id , pages\n",
    "7. edition - of -> conference/workshop : edition id, conf id\n",
    "8. author - reviews -> paper : : reviewer id \"same as author id\", paper doi"
   ]
  },
  {
   "cell_type": "code",
   "execution_count": 41,
   "metadata": {},
   "outputs": [
    {
     "data": {
      "text/plain": [
       "'/Users/marwasulaiman/Library/Application Support/Neo4j Desktop/Application/relate-data/dbmss/dbms-6f9440a9-c56d-4ebc-b244-90d92b771350/import/conference_editions.csv'"
      ]
     },
     "execution_count": 41,
     "metadata": {},
     "output_type": "execute_result"
    }
   ],
   "source": [
    "import shutil\n",
    "shutil.copy(\"Paper_nodes.csv\", IMPORT_FOLDER)\n",
    "shutil.copy(\"Author_nodes.csv\", IMPORT_FOLDER)\n",
    "shutil.copy(\"fields_of_study.csv\", IMPORT_FOLDER)\n",
    "shutil.copy(\"conferences.csv\", IMPORT_FOLDER)\n",
    "shutil.copy(\"journals.csv\", IMPORT_FOLDER)\n",
    "shutil.copy(\"conference_editions.csv\", IMPORT_FOLDER)\n",
    "\n"
   ]
  },
  {
   "cell_type": "code",
   "execution_count": 43,
   "metadata": {},
   "outputs": [],
   "source": [
    "driver = GraphDatabase.driver(NEO4J_URI, auth=(NEO4J_USER, NEO4J_PASSWORD))\n",
    "\n",
    "session = driver.session() "
   ]
  },
  {
   "cell_type": "code",
   "execution_count": 46,
   "metadata": {},
   "outputs": [
    {
     "data": {
      "text/plain": [
       "<neo4j._sync.work.result.Result at 0x11c6d8550>"
      ]
     },
     "execution_count": 46,
     "metadata": {},
     "output_type": "execute_result"
    }
   ],
   "source": [
    "# Load papers \n",
    "query =     \"\"\"\n",
    "            LOAD CSV WITH HEADERS FROM \"file:///Paper_nodes.csv\" AS row\n",
    "            CREATE (:Paper { DOI : row.DOI, title : row.Title, abstract : row.Abstract, year : toInteger(row.Year), \n",
    "            publicationDate : date(substring(row.publicationDate, 0, 10)), citationCount : toInteger(row.Citations), referenceCount : toInteger(row.References),\n",
    "            URL : row.URL})\n",
    "            \"\"\"\n",
    "session.run(query)\n",
    "\n"
   ]
  },
  {
   "cell_type": "code",
   "execution_count": 47,
   "metadata": {},
   "outputs": [
    {
     "data": {
      "text/plain": [
       "<neo4j._sync.work.result.Result at 0x11c6d87d0>"
      ]
     },
     "execution_count": 47,
     "metadata": {},
     "output_type": "execute_result"
    }
   ],
   "source": [
    "# Load Authors \n",
    "\n",
    "query =     \"\"\"\n",
    "            LOAD CSV WITH HEADERS FROM \"file:///Author_nodes.csv\" AS row\n",
    "            CREATE (:Author { ID : toInteger(row.Author_ID), Name: row.Author_Name})\n",
    "            \"\"\"\n",
    "session.run(query)"
   ]
  },
  {
   "cell_type": "code",
   "execution_count": 48,
   "metadata": {},
   "outputs": [
    {
     "data": {
      "text/plain": [
       "<neo4j._sync.work.result.Result at 0x11c6d8690>"
      ]
     },
     "execution_count": 48,
     "metadata": {},
     "output_type": "execute_result"
    }
   ],
   "source": [
    "# Load Keywords \n",
    "\n",
    "query =     \"\"\"\n",
    "            LOAD CSV WITH HEADERS FROM \"file:///fields_of_study.csv\" AS row\n",
    "            CREATE (:Keyword { ID : row.Field_ID, Name: row.Field_Name})\n",
    "            \"\"\"\n",
    "session.run(query)"
   ]
  },
  {
   "cell_type": "code",
   "execution_count": 49,
   "metadata": {},
   "outputs": [
    {
     "data": {
      "text/plain": [
       "<neo4j._sync.work.result.Result at 0x11c6d8910>"
      ]
     },
     "execution_count": 49,
     "metadata": {},
     "output_type": "execute_result"
    }
   ],
   "source": [
    "# Load conferences\n",
    "query =     \"\"\"\n",
    "            LOAD CSV WITH HEADERS FROM \"file:///conferences.csv\" AS row\n",
    "            CREATE (:Conference { ID : row.ID, Name: row.Name, URL: row.url})\n",
    "            \"\"\"\n",
    "session.run(query)"
   ]
  },
  {
   "cell_type": "code",
   "execution_count": 50,
   "metadata": {},
   "outputs": [
    {
     "data": {
      "text/plain": [
       "<neo4j._sync.work.result.Result at 0x11c6d8a50>"
      ]
     },
     "execution_count": 50,
     "metadata": {},
     "output_type": "execute_result"
    }
   ],
   "source": [
    "# Load Editions\n",
    "query =     \"\"\"\n",
    "            LOAD CSV WITH HEADERS FROM \"file:///conference_editions.csv\" AS row\n",
    "            CREATE (:Conference_Edition { ID : row.Edition_ID, Name: row.Conference_Edition_Name, Venue_ID: row.Venue_ID, Year:row.Year})\n",
    "            \"\"\"\n",
    "session.run(query)"
   ]
  },
  {
   "cell_type": "code",
   "execution_count": 51,
   "metadata": {},
   "outputs": [
    {
     "data": {
      "text/plain": [
       "<neo4j._sync.work.result.Result at 0x11c6d8cd0>"
      ]
     },
     "execution_count": 51,
     "metadata": {},
     "output_type": "execute_result"
    }
   ],
   "source": [
    "# Load Journals\n",
    "query =     \"\"\"\n",
    "            LOAD CSV WITH HEADERS FROM \"file:///journals.csv\" AS row\n",
    "            CREATE (:Journal { ID : row.ID, Name: row.Name, ISSN: row.issn, URL: row.url})\n",
    "            \"\"\"\n",
    "session.run(query)"
   ]
  },
  {
   "cell_type": "markdown",
   "metadata": {},
   "source": [
    "Relationships"
   ]
  },
  {
   "cell_type": "code",
   "execution_count": 52,
   "metadata": {},
   "outputs": [
    {
     "data": {
      "text/plain": [
       "'/Users/marwasulaiman/Library/Application Support/Neo4j Desktop/Application/relate-data/dbmss/dbms-6f9440a9-c56d-4ebc-b244-90d92b771350/import/reviews.csv'"
      ]
     },
     "execution_count": 52,
     "metadata": {},
     "output_type": "execute_result"
    }
   ],
   "source": [
    "shutil.copy(\"author_paper_relationship_concat.csv\", IMPORT_FOLDER)\n",
    "shutil.copy(\"paper_field_relationship_concat.csv\", IMPORT_FOLDER)\n",
    "shutil.copy(\"references.csv\", IMPORT_FOLDER)\n",
    "shutil.copy(\"reviews.csv\", IMPORT_FOLDER)\n",
    "\n"
   ]
  },
  {
   "cell_type": "code",
   "execution_count": 53,
   "metadata": {},
   "outputs": [
    {
     "data": {
      "text/plain": [
       "<neo4j._sync.work.result.Result at 0x11c4c7d90>"
      ]
     },
     "execution_count": 53,
     "metadata": {},
     "output_type": "execute_result"
    }
   ],
   "source": [
    "# Writes\n",
    "query =    \"\"\"LOAD CSV WITH HEADERS FROM 'file:///author_paper_relationship_concat.csv' AS row\n",
    "            MATCH (a:Author {ID: toInteger(row.Author_ID)}), (p:Paper {DOI: row.DOI})\n",
    "            MERGE (a)-[w:Writes]->(p)\n",
    "            \"\"\"\n",
    "session.run(query)"
   ]
  },
  {
   "cell_type": "code",
   "execution_count": 54,
   "metadata": {},
   "outputs": [
    {
     "data": {
      "text/plain": [
       "<neo4j._sync.work.result.Result at 0x11c4c7c50>"
      ]
     },
     "execution_count": 54,
     "metadata": {},
     "output_type": "execute_result"
    }
   ],
   "source": [
    "# Corresponding\n",
    "query =    \"\"\"LOAD CSV WITH HEADERS FROM 'file:///author_paper_relationship_concat.csv' AS row\n",
    "            MATCH (a:Author {ID: toInteger(row.Author_ID)}), (p:Paper {DOI: row.DOI})\n",
    "            WHERE toBoolean(row.Corresponding) = True\n",
    "            MERGE (a)-[:Corresponding_of]->(p);  // Creating a separate edge for corresponding authors\n",
    "            \"\"\"\n",
    "session.run(query)"
   ]
  },
  {
   "cell_type": "code",
   "execution_count": 20,
   "metadata": {},
   "outputs": [
    {
     "data": {
      "text/plain": [
       "<neo4j._sync.work.result.Result at 0x1253f7470>"
      ]
     },
     "execution_count": 20,
     "metadata": {},
     "output_type": "execute_result"
    }
   ],
   "source": [
    "# # Writes (referenced papers)\n",
    "\n",
    "# query =    \"\"\"LOAD CSV WITH HEADERS FROM 'file:///ref_author_paper_relationship.csv' AS row\n",
    "#             MATCH (a:Author {ID: toInteger(row.Author_ID)}), (p:Paper {DOI: row.DOI})\n",
    "#             MERGE (a)-[w:Writes]->(p)\n",
    "#             \"\"\"\n",
    "# session.run(query)"
   ]
  },
  {
   "cell_type": "code",
   "execution_count": 21,
   "metadata": {},
   "outputs": [
    {
     "data": {
      "text/plain": [
       "<neo4j._sync.work.result.Result at 0x124c94bc0>"
      ]
     },
     "execution_count": 21,
     "metadata": {},
     "output_type": "execute_result"
    }
   ],
   "source": [
    "# # Corresponding (referenced papers)\n",
    "\n",
    "# query =    \"\"\"LOAD CSV WITH HEADERS FROM 'file:///ref_author_paper_relationship.csv' AS row\n",
    "#             MATCH (a:Author {ID: toInteger(row.Author_ID)}), (p:Paper {DOI: row.DOI})\n",
    "#             WHERE toBoolean(row.Corresponding) = True\n",
    "#             MERGE (a)-[:Corresponding_of]->(p);  // Creating a separate edge for corresponding authors\n",
    "#             \"\"\"\n",
    "# session.run(query)"
   ]
  },
  {
   "cell_type": "code",
   "execution_count": 55,
   "metadata": {},
   "outputs": [
    {
     "data": {
      "text/plain": [
       "<neo4j._sync.work.result.Result at 0x11c4c6e90>"
      ]
     },
     "execution_count": 55,
     "metadata": {},
     "output_type": "execute_result"
    }
   ],
   "source": [
    "# Cited by\n",
    "\n",
    "query =    \"\"\"LOAD CSV WITH HEADERS FROM 'file:///references.csv' AS row\n",
    "            MATCH (p:Paper {DOI: row.Paper_DOI}), (r:Paper {DOI: row.Reference_DOI})\n",
    "            MERGE (p)-[:Cited_by]->(r);  \n",
    "            \"\"\"\n",
    "session.run(query)"
   ]
  },
  {
   "cell_type": "code",
   "execution_count": 56,
   "metadata": {},
   "outputs": [
    {
     "data": {
      "text/plain": [
       "<neo4j._sync.work.result.Result at 0x11c4c7ed0>"
      ]
     },
     "execution_count": 56,
     "metadata": {},
     "output_type": "execute_result"
    }
   ],
   "source": [
    "# About\n",
    "\n",
    "query =    \"\"\"LOAD CSV WITH HEADERS FROM 'file:///paper_field_relationship_concat.csv' AS row\n",
    "            MATCH (p:Paper {DOI: row.DOI}), (k:Keyword {ID: row.Field_ID})\n",
    "            MERGE (p)-[:About]->(k);  \n",
    "            \"\"\"\n",
    "session.run(query)"
   ]
  },
  {
   "cell_type": "code",
   "execution_count": 24,
   "metadata": {},
   "outputs": [
    {
     "data": {
      "text/plain": [
       "<neo4j._sync.work.result.Result at 0x124afee70>"
      ]
     },
     "execution_count": 24,
     "metadata": {},
     "output_type": "execute_result"
    }
   ],
   "source": [
    "# # About (referenced)\n",
    "\n",
    "# query =    \"\"\"LOAD CSV WITH HEADERS FROM 'file:///ref_paper_field_relationship.csv' AS row\n",
    "#             MATCH (p:Paper {DOI: row.DOI}), (k:Keyword {ID: row.Field_ID})\n",
    "#             MERGE (p)-[:About]->(k);  \n",
    "#             \"\"\"\n",
    "# session.run(query)"
   ]
  },
  {
   "cell_type": "code",
   "execution_count": 57,
   "metadata": {},
   "outputs": [
    {
     "data": {
      "text/plain": [
       "<neo4j._sync.work.result.Result at 0x11c4c74d0>"
      ]
     },
     "execution_count": 57,
     "metadata": {},
     "output_type": "execute_result"
    }
   ],
   "source": [
    "# Edition of\n",
    "\n",
    "query =    \"\"\"LOAD CSV WITH HEADERS FROM 'file:///conference_editions.csv' AS row\n",
    "            MATCH (e:Conference_Edition {ID: row.Edition_ID}), (c:Conference {ID: row.Venue_ID})\n",
    "            MERGE (e)-[:Of]->(c);  \n",
    "            \"\"\"\n",
    "session.run(query)"
   ]
  },
  {
   "cell_type": "code",
   "execution_count": 58,
   "metadata": {},
   "outputs": [],
   "source": [
    "\n",
    "# Separate Journal and Conference \n",
    "\n",
    "papers_df = pd.read_csv(\"papers.csv\")\n",
    "referenced_df = pd.read_csv(\"referenced_papers.csv\")\n",
    "\n",
    "journal_papers_df = papers_df[papers_df[\"publicationType\"]==\"journal\"]\n",
    "journal_ref_papers_df = referenced_df[referenced_df[\"publicationType\"]==\"journal\"]\n",
    "\n",
    "journal_papers_concat = pd.concat([journal_papers_df,journal_ref_papers_df], ignore_index=True)\n",
    "\n",
    "conf_papers_df = papers_df[papers_df[\"publicationType\"]==\"conference\"]\n",
    "conf_ref_papers_df = referenced_df[referenced_df[\"publicationType\"]==\"conference\"]\n",
    "\n",
    "conf_papers_concat = pd.concat([conf_papers_df,conf_ref_papers_df], ignore_index=True)"
   ]
  },
  {
   "cell_type": "code",
   "execution_count": 59,
   "metadata": {},
   "outputs": [],
   "source": [
    "conf_papers_concat['Edition_id'] = conf_papers_concat['Edition_id'].astype(str)\n"
   ]
  },
  {
   "cell_type": "code",
   "execution_count": 60,
   "metadata": {},
   "outputs": [],
   "source": [
    "journal_papers_concat.to_csv(\"Journal_papers.csv\", index=False)\n",
    "conf_papers_concat.to_csv(\"Conference_papers.csv\", index=False)\n"
   ]
  },
  {
   "cell_type": "code",
   "execution_count": 61,
   "metadata": {},
   "outputs": [
    {
     "data": {
      "text/plain": [
       "'/Users/marwasulaiman/Library/Application Support/Neo4j Desktop/Application/relate-data/dbmss/dbms-6f9440a9-c56d-4ebc-b244-90d92b771350/import/Conference_papers.csv'"
      ]
     },
     "execution_count": 61,
     "metadata": {},
     "output_type": "execute_result"
    }
   ],
   "source": [
    "shutil.copy(\"Journal_papers.csv\", IMPORT_FOLDER)\n",
    "shutil.copy(\"Conference_papers.csv\", IMPORT_FOLDER)"
   ]
  },
  {
   "cell_type": "markdown",
   "metadata": {},
   "source": [
    "Note that the referenced papers might have NaN calue for venue id, or edition id , so we might have some papers not matched with editions of journals -> decide whether to filter them out in the first script/ keep them like this/assign to them random venues?\n",
    "\n",
    "Also, rn we have an edition with \"Unknown\" venue id, which all papers with \"Unknown\" venue id matches to"
   ]
  },
  {
   "cell_type": "code",
   "execution_count": 62,
   "metadata": {},
   "outputs": [
    {
     "data": {
      "text/plain": [
       "<neo4j._sync.work.result.Result at 0x11c4c4e10>"
      ]
     },
     "execution_count": 62,
     "metadata": {},
     "output_type": "execute_result"
    }
   ],
   "source": [
    "# Published_in\n",
    "\n",
    "query =    \"\"\"LOAD CSV WITH HEADERS FROM 'file:///Journal_papers.csv' AS row\n",
    "            MATCH (p:Paper {DOI: row.DOI}), (j:Journal {ID: row.venue_id})\n",
    "            MERGE (p)-[r:Published_in]->(j)\n",
    "            SET r.volume_number = row.volume,\n",
    "                r.pages = row.pages,\n",
    "                r.year = toInteger(row.Year);\n",
    "            \"\"\"\n",
    "session.run(query)"
   ]
  },
  {
   "cell_type": "code",
   "execution_count": 63,
   "metadata": {},
   "outputs": [
    {
     "data": {
      "text/plain": [
       "<neo4j._sync.work.result.Result at 0x11c4c4cd0>"
      ]
     },
     "execution_count": 63,
     "metadata": {},
     "output_type": "execute_result"
    }
   ],
   "source": [
    "\n",
    "query =    \"\"\"LOAD CSV WITH HEADERS FROM 'file:///Conference_papers.csv' AS row\n",
    "            MATCH (p:Paper {DOI: row.DOI}), (e:Conference_Edition {ID: row.Edition_id})\n",
    "            MERGE (p)-[r:Published_in]->(e)\n",
    "            SET r.pages = row.pages;\n",
    "            \"\"\"\n",
    "session.run(query)"
   ]
  },
  {
   "cell_type": "code",
   "execution_count": 64,
   "metadata": {},
   "outputs": [
    {
     "data": {
      "text/plain": [
       "<neo4j._sync.work.result.Result at 0x11c4c4a50>"
      ]
     },
     "execution_count": 64,
     "metadata": {},
     "output_type": "execute_result"
    }
   ],
   "source": [
    "# Reviews\n",
    "\n",
    "query =    \"\"\"LOAD CSV WITH HEADERS FROM 'file:///reviews.csv' AS row\n",
    "            MATCH (a:Author {ID: toInteger(row.Reviewer_ID)}), (p:Paper {DOI: row.Paper_DOI})\n",
    "            MERGE (a)-[r:Reviews]->(p)\n",
    "            \"\"\"\n",
    "session.run(query)"
   ]
  }
 ],
 "metadata": {
  "kernelspec": {
   "display_name": "Python 3",
   "language": "python",
   "name": "python3"
  },
  "language_info": {
   "codemirror_mode": {
    "name": "ipython",
    "version": 3
   },
   "file_extension": ".py",
   "mimetype": "text/x-python",
   "name": "python",
   "nbconvert_exporter": "python",
   "pygments_lexer": "ipython3",
   "version": "3.13.0"
  }
 },
 "nbformat": 4,
 "nbformat_minor": 2
}
