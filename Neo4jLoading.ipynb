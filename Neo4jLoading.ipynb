{
 "cells": [
  {
   "cell_type": "markdown",
   "metadata": {},
   "source": [
    "Setup of neo4j from desktop app:\n",
    "\n",
    "1. create new local db\n",
    "    Name: SDM_Lab1_Research\n",
    "    Username: neo4j\n",
    "    Password: pass1234\n",
    "\n",
    "2. Start the db\n"
   ]
  },
  {
   "cell_type": "code",
   "execution_count": 1,
   "metadata": {},
   "outputs": [
    {
     "name": "stdout",
     "output_type": "stream",
     "text": [
      "Collecting neo4j\n",
      "  Using cached neo4j-5.28.1-py3-none-any.whl.metadata (5.9 kB)\n",
      "Requirement already satisfied: pytz in /opt/anaconda3/lib/python3.12/site-packages (from neo4j) (2024.1)\n",
      "Using cached neo4j-5.28.1-py3-none-any.whl (312 kB)\n",
      "Installing collected packages: neo4j\n",
      "Successfully installed neo4j-5.28.1\n",
      "Note: you may need to restart the kernel to use updated packages.\n"
     ]
    }
   ],
   "source": [
    "pip install neo4j\n"
   ]
  },
  {
   "cell_type": "code",
   "execution_count": 2,
   "metadata": {},
   "outputs": [],
   "source": [
    "import json\n",
    "import pandas as pd\n",
    "import os\n",
    "from neo4j import GraphDatabase"
   ]
  },
  {
   "cell_type": "code",
   "execution_count": 283,
   "metadata": {},
   "outputs": [],
   "source": [
    "NEO4J_URI = \"bolt://localhost:7687\"  # Default for Neo4j Desktop\n",
    "NEO4J_USER = \"neo4j\"\n",
    "NEO4J_PASSWORD = \"pass1234\"  # Change this to your actual password"
   ]
  },
  {
   "cell_type": "code",
   "execution_count": 284,
   "metadata": {},
   "outputs": [
    {
     "name": "stdout",
     "output_type": "stream",
     "text": [
      "✅ Database cleared!\n"
     ]
    }
   ],
   "source": [
    "from neo4j import GraphDatabase\n",
    "\n",
    "def clear_database():\n",
    "    driver = GraphDatabase.driver(NEO4J_URI, auth=(NEO4J_USER, NEO4J_PASSWORD))\n",
    "    with driver.session() as session:\n",
    "        session.run(\"MATCH (n) DETACH DELETE n\")\n",
    "    print(\"✅ Database cleared!\")\n",
    "\n",
    "clear_database()\n"
   ]
  },
  {
   "cell_type": "code",
   "execution_count": 285,
   "metadata": {},
   "outputs": [
    {
     "name": "stdout",
     "output_type": "stream",
     "text": [
      "Output: \u001b[34mdbms-6f9440a9-c56d-4ebc-b244-90d92b771350\u001b[m\u001b[m\n",
      "\n"
     ]
    },
    {
     "name": "stderr",
     "output_type": "stream",
     "text": [
      "<>:4: SyntaxWarning: invalid escape sequence '\\ '\n",
      "<>:4: SyntaxWarning: invalid escape sequence '\\ '\n",
      "/var/folders/lr/ysc7n3fx6sv02d60ctrl7k_r0000gn/T/ipykernel_44520/3695089776.py:4: SyntaxWarning: invalid escape sequence '\\ '\n",
      "  result = subprocess.run(['sh', '-c', 'ls ~/Library/Application\\ Support/Neo4j\\ Desktop/Application/relate-data/dbmss'], capture_output=True, text=True)\n"
     ]
    }
   ],
   "source": [
    "import subprocess\n",
    "\n",
    "# Run a shell command\n",
    "result = subprocess.run(['sh', '-c', 'ls ~/Library/Application\\ Support/Neo4j\\ Desktop/Application/relate-data/dbmss'], capture_output=True, text=True)\n",
    "\n",
    "# Get the output\n",
    "print(\"Output:\", result.stdout)\n"
   ]
  },
  {
   "cell_type": "code",
   "execution_count": 286,
   "metadata": {},
   "outputs": [],
   "source": [
    "# copy the output above in the path here\n",
    "\n",
    "IMPORT_FOLDER = os.path.expanduser(\"~/Library/Application Support/Neo4j Desktop/Application/relate-data/dbmss/dbms-6f9440a9-c56d-4ebc-b244-90d92b771350/import/\")\n",
    "\n"
   ]
  },
  {
   "cell_type": "markdown",
   "metadata": {},
   "source": [
    "\n",
    "- Nodes:\n",
    "\n",
    "1. Paper: doi, title, abstract, year, # citations\n",
    "2. Author: author id, name\n",
    "3. Conference: conf id, name \n",
    "4. Edition: edition id, edition year, conference id, proceeding name , city\n",
    "5. Journal: id, name\n",
    "6. Keyword/Topic: id, name\n",
    "\n",
    "- Relationship:\n",
    "1. author - writes -> paper : author id, paper doi\n",
    "2. author - corresponding author of -> paper : : author id, paper doi\n",
    "3. paper - cites -> paper : DOI1, DOI2\n",
    "4. paper - about -> keyword: doi, keyword id\n",
    "5. paper - published in ({volume}) -> journel : doi, journal id , volume number , pages, year\n",
    "6. paper - published in -> conference/workshop edition : doi, edition id , pages\n",
    "7. edition - of -> conference/workshop : edition id, conf id"
   ]
  },
  {
   "cell_type": "code",
   "execution_count": 287,
   "metadata": {},
   "outputs": [
    {
     "name": "stdout",
     "output_type": "stream",
     "text": [
      "Concatenated data without duplicates has been saved to 'Paper_nodes.csv'\n"
     ]
    }
   ],
   "source": [
    "# Paper nodes csv \n",
    "\n",
    "import pandas as pd\n",
    "\n",
    "papers_df = pd.read_csv(\"papers.csv\")\n",
    "referenced_df = pd.read_csv(\"referenced_papers.csv\")\n",
    "\n",
    "concatenated_df = pd.concat([papers_df, referenced_df], ignore_index=True)\n",
    "\n",
    "concatenated_df = concatenated_df.drop_duplicates(subset=[\"DOI\"], keep=\"first\")\n",
    "\n",
    "selected_columns = [\"DOI\", \"Title\", \"Abstract\", \"Year\", \"publicationDate\", \"Citations\", \"References\", \"URL\"]\n",
    "filtered_df = concatenated_df[selected_columns]\n",
    "\n",
    "filtered_df.loc[:, 'Abstract'] = filtered_df['Abstract'].str.replace(r'\\\"\\\"', '', regex=True)\n",
    "\n",
    "# Save the cleaned DataFrame to a new CSV file\n",
    "filtered_df.to_csv(\"Paper_nodes.csv\", index=False)\n",
    "\n",
    "print(\"Concatenated data without duplicates has been saved to 'Paper_nodes.csv'\")\n"
   ]
  },
  {
   "cell_type": "code",
   "execution_count": 288,
   "metadata": {},
   "outputs": [
    {
     "name": "stdout",
     "output_type": "stream",
     "text": [
      "Concatenated data without duplicates has been saved to 'Author_nodes.csv'\n"
     ]
    }
   ],
   "source": [
    "# Author nodes csv \n",
    "\n",
    "authors_df = pd.read_csv(\"authors.csv\")\n",
    "ref_authors_df = pd.read_csv(\"ref_authors.csv\")\n",
    "\n",
    "\n",
    "concatenated_df = pd.concat([authors_df, ref_authors_df], ignore_index=True)\n",
    "\n",
    "concatenated_df = concatenated_df.drop_duplicates(subset=[\"Author_ID\"], keep=\"first\")\n",
    "\n",
    "\n",
    "# Save the cleaned DataFrame to a new CSV file\n",
    "concatenated_df.to_csv(\"Author_nodes.csv\", index=False)\n",
    "\n",
    "print(\"Concatenated data without duplicates has been saved to 'Author_nodes.csv'\")\n"
   ]
  },
  {
   "cell_type": "code",
   "execution_count": 260,
   "metadata": {},
   "outputs": [],
   "source": [
    "# # Separate Journal and Conference \n",
    "\n",
    "# journal_papers_df = papers_df[papers_df[\"publicationType\"]==\"journal\"]\n",
    "# journal_ref_papers_df = referenced_df[referenced_df[\"publicationType\"]==\"journal\"]\n",
    "\n",
    "# journal_papers_concat = pd.concat([journal_papers_df,journal_ref_papers_df], ignore_index=True)\n",
    "\n",
    "# conf_papers_df = papers_df[papers_df[\"publicationType\"]==\"conference\"]\n",
    "# conf_ref_papers_df = referenced_df[referenced_df[\"publicationType\"]==\"conference\"]\n",
    "\n",
    "# conf_papers_concat = pd.concat([conf_papers_df,conf_ref_papers_df], ignore_index=True)"
   ]
  },
  {
   "cell_type": "code",
   "execution_count": 255,
   "metadata": {},
   "outputs": [
    {
     "data": {
      "text/html": [
       "<div>\n",
       "<style scoped>\n",
       "    .dataframe tbody tr th:only-of-type {\n",
       "        vertical-align: middle;\n",
       "    }\n",
       "\n",
       "    .dataframe tbody tr th {\n",
       "        vertical-align: top;\n",
       "    }\n",
       "\n",
       "    .dataframe thead th {\n",
       "        text-align: right;\n",
       "    }\n",
       "</style>\n",
       "<table border=\"1\" class=\"dataframe\">\n",
       "  <thead>\n",
       "    <tr style=\"text-align: right;\">\n",
       "      <th></th>\n",
       "      <th>Paper_ID</th>\n",
       "      <th>DOI</th>\n",
       "      <th>Title</th>\n",
       "      <th>Abstract</th>\n",
       "      <th>Venue</th>\n",
       "      <th>publicationType</th>\n",
       "      <th>publication_type_2</th>\n",
       "      <th>journal_name</th>\n",
       "      <th>pages</th>\n",
       "      <th>volume</th>\n",
       "      <th>Year</th>\n",
       "      <th>publicationDate</th>\n",
       "      <th>Citations</th>\n",
       "      <th>References</th>\n",
       "      <th>Authors</th>\n",
       "      <th>Author_Ids</th>\n",
       "      <th>URL</th>\n",
       "      <th>s2FieldsOfStudys</th>\n",
       "      <th>Corresponding_Author_ID</th>\n",
       "    </tr>\n",
       "  </thead>\n",
       "  <tbody>\n",
       "    <tr>\n",
       "      <th>2</th>\n",
       "      <td>286519b404064fe4e52f1dc5483596fe683aed03</td>\n",
       "      <td>10.1109/GlobConHT56829.2023.10087780</td>\n",
       "      <td>Machine Learning-based Electric Vehicle User B...</td>\n",
       "      <td>NaN</td>\n",
       "      <td>2023 IEEE IAS Global Conference on Renewable E...</td>\n",
       "      <td>Unknown</td>\n",
       "      <td>['Conference']</td>\n",
       "      <td>2023 IEEE IAS Global Conference on Renewable E...</td>\n",
       "      <td>1-6</td>\n",
       "      <td>NaN</td>\n",
       "      <td>2023</td>\n",
       "      <td>2023-03-11 00:00:00</td>\n",
       "      <td>4</td>\n",
       "      <td>20</td>\n",
       "      <td>Aakash Lilhore, Kavita Kiran Prasad, V. Agarwal</td>\n",
       "      <td>2213915423, 31624194, 2113266595</td>\n",
       "      <td>https://www.semanticscholar.org/paper/286519b4...</td>\n",
       "      <td>Computer Science, Engineering, Environmental S...</td>\n",
       "      <td>2213915423</td>\n",
       "    </tr>\n",
       "    <tr>\n",
       "      <th>12</th>\n",
       "      <td>8c5e5df92c119bff25095b79ea37b1f62ab0a511</td>\n",
       "      <td>10.1109/DASC-PICom-CBDCom-CyberSciTech49142.20...</td>\n",
       "      <td>Detection of DoH Tunnels using Time-series Cla...</td>\n",
       "      <td>NaN</td>\n",
       "      <td>2020 IEEE Intl Conf on Dependable, Autonomic a...</td>\n",
       "      <td>Unknown</td>\n",
       "      <td>['JournalArticle']</td>\n",
       "      <td>2020 IEEE Intl Conf on Dependable, Autonomic a...</td>\n",
       "      <td>63-70</td>\n",
       "      <td>NaN</td>\n",
       "      <td>2020</td>\n",
       "      <td>2020-08-01 00:00:00</td>\n",
       "      <td>130</td>\n",
       "      <td>32</td>\n",
       "      <td>Mohammadreza MontazeriShatoori, L. Davidson, G...</td>\n",
       "      <td>2023739110, 2014749334, 2269790, 2037871</td>\n",
       "      <td>https://www.semanticscholar.org/paper/8c5e5df9...</td>\n",
       "      <td>Computer Science</td>\n",
       "      <td>2023739110</td>\n",
       "    </tr>\n",
       "    <tr>\n",
       "      <th>13</th>\n",
       "      <td>e51f66d1ee807dd0edd5fa47fc2e3a707707435d</td>\n",
       "      <td>10.1109/TSMC.2019.2905253</td>\n",
       "      <td>Distributed Resilient Filtering for Power Syst...</td>\n",
       "      <td>NaN</td>\n",
       "      <td>IEEE Transactions on Systems, Man, and Cyberne...</td>\n",
       "      <td>Unknown</td>\n",
       "      <td>['JournalArticle']</td>\n",
       "      <td>IEEE Transactions on Systems, Man, and Cyberne...</td>\n",
       "      <td>1688-1697</td>\n",
       "      <td>49</td>\n",
       "      <td>2019</td>\n",
       "      <td>2019-04-02 00:00:00</td>\n",
       "      <td>229</td>\n",
       "      <td>45</td>\n",
       "      <td>Wei Chen, Derui Ding, Hongli Dong, Guoliang Wei</td>\n",
       "      <td>2154941306, 1795716, 2597875, 2255389230</td>\n",
       "      <td>https://www.semanticscholar.org/paper/e51f66d1...</td>\n",
       "      <td>Computer Science, Engineering</td>\n",
       "      <td>2154941306</td>\n",
       "    </tr>\n",
       "    <tr>\n",
       "      <th>15</th>\n",
       "      <td>4880ef516028dd598fe9339429b36658530fd3c2</td>\n",
       "      <td>10.1002/anie.202415056</td>\n",
       "      <td>Inverse Design of Singlet‐Fission Materials wi...</td>\n",
       "      <td>Abstract Singlet fission has shown potential f...</td>\n",
       "      <td>Angewandte Chemie</td>\n",
       "      <td>Unknown</td>\n",
       "      <td>['JournalArticle']</td>\n",
       "      <td>Angewandte Chemie (International Ed. in English)</td>\n",
       "      <td>NaN</td>\n",
       "      <td>64</td>\n",
       "      <td>2024</td>\n",
       "      <td>2024-09-25 00:00:00</td>\n",
       "      <td>1</td>\n",
       "      <td>9</td>\n",
       "      <td>Luca Schaufelberger, J. T. Blaskovits, Rubén L...</td>\n",
       "      <td>2322850680, 2255859554, 32427390, 2321647360, ...</td>\n",
       "      <td>https://www.semanticscholar.org/paper/4880ef51...</td>\n",
       "      <td>Materials Science, Medicine</td>\n",
       "      <td>2322850680</td>\n",
       "    </tr>\n",
       "    <tr>\n",
       "      <th>17</th>\n",
       "      <td>a129b8ce13b257f19384c4b7ca6c207c9343e366</td>\n",
       "      <td>10.1038/s42256-024-00815-9</td>\n",
       "      <td>Equivariant 3D-conditional diffusion model for...</td>\n",
       "      <td>NaN</td>\n",
       "      <td>Nat. Mac. Intell.</td>\n",
       "      <td>Unknown</td>\n",
       "      <td>['JournalArticle']</td>\n",
       "      <td>Nat. Mac. Intell.</td>\n",
       "      <td>417-427</td>\n",
       "      <td>6</td>\n",
       "      <td>2024</td>\n",
       "      <td>2024-04-11 00:00:00</td>\n",
       "      <td>53</td>\n",
       "      <td>28</td>\n",
       "      <td>Ilia Igashov, Hannes Stärk, Clément Vignac, Ar...</td>\n",
       "      <td>1677188150, 2312039321, 1404062244, 89961757, ...</td>\n",
       "      <td>https://www.semanticscholar.org/paper/a129b8ce...</td>\n",
       "      <td>Chemistry, Computer Science</td>\n",
       "      <td>1677188150</td>\n",
       "    </tr>\n",
       "    <tr>\n",
       "      <th>...</th>\n",
       "      <td>...</td>\n",
       "      <td>...</td>\n",
       "      <td>...</td>\n",
       "      <td>...</td>\n",
       "      <td>...</td>\n",
       "      <td>...</td>\n",
       "      <td>...</td>\n",
       "      <td>...</td>\n",
       "      <td>...</td>\n",
       "      <td>...</td>\n",
       "      <td>...</td>\n",
       "      <td>...</td>\n",
       "      <td>...</td>\n",
       "      <td>...</td>\n",
       "      <td>...</td>\n",
       "      <td>...</td>\n",
       "      <td>...</td>\n",
       "      <td>...</td>\n",
       "      <td>...</td>\n",
       "    </tr>\n",
       "    <tr>\n",
       "      <th>1892</th>\n",
       "      <td>38b83ab5798bf457454a14230b6f22892d91b92d</td>\n",
       "      <td>10.1109/3ICT.2018.8855790</td>\n",
       "      <td>Data Mining for Intelligent Academic Advising ...</td>\n",
       "      <td>NaN</td>\n",
       "      <td>2018 International Conference on Innovation an...</td>\n",
       "      <td>Unknown</td>\n",
       "      <td>['Conference']</td>\n",
       "      <td>2018 International Conference on Innovation an...</td>\n",
       "      <td>1-5</td>\n",
       "      <td>NaN</td>\n",
       "      <td>2018</td>\n",
       "      <td>2018-11-01 00:00:00</td>\n",
       "      <td>2</td>\n",
       "      <td>25</td>\n",
       "      <td>A. Ghanem, H. Alobaidy</td>\n",
       "      <td>35391618, 8134960</td>\n",
       "      <td>https://www.semanticscholar.org/paper/38b83ab5...</td>\n",
       "      <td>Computer Science, Education</td>\n",
       "      <td>35391618</td>\n",
       "    </tr>\n",
       "    <tr>\n",
       "      <th>1894</th>\n",
       "      <td>91e71c006cd6712aee74fe972648c80443a366e7</td>\n",
       "      <td>10.2307/1269814</td>\n",
       "      <td>Missing Data</td>\n",
       "      <td>NaN</td>\n",
       "      <td>Definitions</td>\n",
       "      <td>Unknown</td>\n",
       "      <td>NaN</td>\n",
       "      <td>Definitions</td>\n",
       "      <td>NaN</td>\n",
       "      <td>NaN</td>\n",
       "      <td>2020</td>\n",
       "      <td>2020-02-02 00:00:00</td>\n",
       "      <td>1144</td>\n",
       "      <td>0</td>\n",
       "      <td>Subir Ghosh, R. Little, D. Rubin</td>\n",
       "      <td>2324699484, 2324436256, 2324436398</td>\n",
       "      <td>https://www.semanticscholar.org/paper/91e71c00...</td>\n",
       "      <td>Computer Science</td>\n",
       "      <td>2324699484</td>\n",
       "    </tr>\n",
       "    <tr>\n",
       "      <th>1895</th>\n",
       "      <td>ffc1c6d02f916475cb7d0793f7c825b6d8f7713e</td>\n",
       "      <td>10.1016/J.COMPEDU.2019.04.009</td>\n",
       "      <td>Integrating machine learning into item respons...</td>\n",
       "      <td>NaN</td>\n",
       "      <td>Comput. Educ.</td>\n",
       "      <td>Unknown</td>\n",
       "      <td>['JournalArticle']</td>\n",
       "      <td>Comput. Educ.</td>\n",
       "      <td>91-103</td>\n",
       "      <td>137</td>\n",
       "      <td>2019</td>\n",
       "      <td>2019-08-01 00:00:00</td>\n",
       "      <td>87</td>\n",
       "      <td>71</td>\n",
       "      <td>Konstantinos Pliakos, Seang-Hwane Joo, Jung Ye...</td>\n",
       "      <td>1744769, 38511894, 48490753, 35119306, 2379840...</td>\n",
       "      <td>https://www.semanticscholar.org/paper/ffc1c6d0...</td>\n",
       "      <td>Computer Science</td>\n",
       "      <td>1744769</td>\n",
       "    </tr>\n",
       "    <tr>\n",
       "      <th>1901</th>\n",
       "      <td>6603e3fd463a287416a086116cb6e4068e9d380b</td>\n",
       "      <td>10.1109/ISRCS.2013.6623770</td>\n",
       "      <td>Investigating the application of moving target...</td>\n",
       "      <td>NaN</td>\n",
       "      <td>2013 6th International Symposium on Resilient ...</td>\n",
       "      <td>Unknown</td>\n",
       "      <td>NaN</td>\n",
       "      <td>2013 6th International Symposium on Resilient ...</td>\n",
       "      <td>162-169</td>\n",
       "      <td>NaN</td>\n",
       "      <td>2013</td>\n",
       "      <td>2013-10-10 00:00:00</td>\n",
       "      <td>74</td>\n",
       "      <td>20</td>\n",
       "      <td>Rui Zhuang, Su Zhang, Alexandru G. Bardas, S. ...</td>\n",
       "      <td>2397692, 48691553, 2477664, 1710421, 1932524, ...</td>\n",
       "      <td>https://www.semanticscholar.org/paper/6603e3fd...</td>\n",
       "      <td>Computer Science, Engineering</td>\n",
       "      <td>2397692</td>\n",
       "    </tr>\n",
       "    <tr>\n",
       "      <th>1904</th>\n",
       "      <td>5120b4f2a9f9953f887daf8fae550c682bae6d31</td>\n",
       "      <td>10.1016/j.artmed.2024.102769</td>\n",
       "      <td>AI in medical diagnosis: AI prediction &amp; human...</td>\n",
       "      <td>NaN</td>\n",
       "      <td>Artif. Intell. Medicine</td>\n",
       "      <td>Unknown</td>\n",
       "      <td>['JournalArticle']</td>\n",
       "      <td>Artificial intelligence in medicine</td>\n",
       "      <td>\\n          102769\\n</td>\n",
       "      <td>149</td>\n",
       "      <td>2024</td>\n",
       "      <td>2024-03-01 00:00:00</td>\n",
       "      <td>24</td>\n",
       "      <td>135</td>\n",
       "      <td>Dóra Göndöcs, Viktor Dörfler</td>\n",
       "      <td>2253746105, 2280242240</td>\n",
       "      <td>https://www.semanticscholar.org/paper/5120b4f2...</td>\n",
       "      <td>Computer Science, Medicine</td>\n",
       "      <td>2253746105</td>\n",
       "    </tr>\n",
       "  </tbody>\n",
       "</table>\n",
       "<p>382 rows × 19 columns</p>\n",
       "</div>"
      ],
      "text/plain": [
       "                                      Paper_ID  \\\n",
       "2     286519b404064fe4e52f1dc5483596fe683aed03   \n",
       "12    8c5e5df92c119bff25095b79ea37b1f62ab0a511   \n",
       "13    e51f66d1ee807dd0edd5fa47fc2e3a707707435d   \n",
       "15    4880ef516028dd598fe9339429b36658530fd3c2   \n",
       "17    a129b8ce13b257f19384c4b7ca6c207c9343e366   \n",
       "...                                        ...   \n",
       "1892  38b83ab5798bf457454a14230b6f22892d91b92d   \n",
       "1894  91e71c006cd6712aee74fe972648c80443a366e7   \n",
       "1895  ffc1c6d02f916475cb7d0793f7c825b6d8f7713e   \n",
       "1901  6603e3fd463a287416a086116cb6e4068e9d380b   \n",
       "1904  5120b4f2a9f9953f887daf8fae550c682bae6d31   \n",
       "\n",
       "                                                    DOI  \\\n",
       "2                  10.1109/GlobConHT56829.2023.10087780   \n",
       "12    10.1109/DASC-PICom-CBDCom-CyberSciTech49142.20...   \n",
       "13                            10.1109/TSMC.2019.2905253   \n",
       "15                               10.1002/anie.202415056   \n",
       "17                           10.1038/s42256-024-00815-9   \n",
       "...                                                 ...   \n",
       "1892                          10.1109/3ICT.2018.8855790   \n",
       "1894                                    10.2307/1269814   \n",
       "1895                      10.1016/J.COMPEDU.2019.04.009   \n",
       "1901                         10.1109/ISRCS.2013.6623770   \n",
       "1904                       10.1016/j.artmed.2024.102769   \n",
       "\n",
       "                                                  Title  \\\n",
       "2     Machine Learning-based Electric Vehicle User B...   \n",
       "12    Detection of DoH Tunnels using Time-series Cla...   \n",
       "13    Distributed Resilient Filtering for Power Syst...   \n",
       "15    Inverse Design of Singlet‐Fission Materials wi...   \n",
       "17    Equivariant 3D-conditional diffusion model for...   \n",
       "...                                                 ...   \n",
       "1892  Data Mining for Intelligent Academic Advising ...   \n",
       "1894                                       Missing Data   \n",
       "1895  Integrating machine learning into item respons...   \n",
       "1901  Investigating the application of moving target...   \n",
       "1904  AI in medical diagnosis: AI prediction & human...   \n",
       "\n",
       "                                               Abstract  \\\n",
       "2                                                   NaN   \n",
       "12                                                  NaN   \n",
       "13                                                  NaN   \n",
       "15    Abstract Singlet fission has shown potential f...   \n",
       "17                                                  NaN   \n",
       "...                                                 ...   \n",
       "1892                                                NaN   \n",
       "1894                                                NaN   \n",
       "1895                                                NaN   \n",
       "1901                                                NaN   \n",
       "1904                                                NaN   \n",
       "\n",
       "                                                  Venue publicationType  \\\n",
       "2     2023 IEEE IAS Global Conference on Renewable E...         Unknown   \n",
       "12    2020 IEEE Intl Conf on Dependable, Autonomic a...         Unknown   \n",
       "13    IEEE Transactions on Systems, Man, and Cyberne...         Unknown   \n",
       "15                                    Angewandte Chemie         Unknown   \n",
       "17                                    Nat. Mac. Intell.         Unknown   \n",
       "...                                                 ...             ...   \n",
       "1892  2018 International Conference on Innovation an...         Unknown   \n",
       "1894                                        Definitions         Unknown   \n",
       "1895                                      Comput. Educ.         Unknown   \n",
       "1901  2013 6th International Symposium on Resilient ...         Unknown   \n",
       "1904                            Artif. Intell. Medicine         Unknown   \n",
       "\n",
       "      publication_type_2                                       journal_name  \\\n",
       "2         ['Conference']  2023 IEEE IAS Global Conference on Renewable E...   \n",
       "12    ['JournalArticle']  2020 IEEE Intl Conf on Dependable, Autonomic a...   \n",
       "13    ['JournalArticle']  IEEE Transactions on Systems, Man, and Cyberne...   \n",
       "15    ['JournalArticle']   Angewandte Chemie (International Ed. in English)   \n",
       "17    ['JournalArticle']                                  Nat. Mac. Intell.   \n",
       "...                  ...                                                ...   \n",
       "1892      ['Conference']  2018 International Conference on Innovation an...   \n",
       "1894                 NaN                                        Definitions   \n",
       "1895  ['JournalArticle']                                      Comput. Educ.   \n",
       "1901                 NaN  2013 6th International Symposium on Resilient ...   \n",
       "1904  ['JournalArticle']                Artificial intelligence in medicine   \n",
       "\n",
       "                             pages volume  Year      publicationDate  \\\n",
       "2                              1-6    NaN  2023  2023-03-11 00:00:00   \n",
       "12                           63-70    NaN  2020  2020-08-01 00:00:00   \n",
       "13                       1688-1697     49  2019  2019-04-02 00:00:00   \n",
       "15                             NaN     64  2024  2024-09-25 00:00:00   \n",
       "17                         417-427      6  2024  2024-04-11 00:00:00   \n",
       "...                            ...    ...   ...                  ...   \n",
       "1892                           1-5    NaN  2018  2018-11-01 00:00:00   \n",
       "1894                           NaN    NaN  2020  2020-02-02 00:00:00   \n",
       "1895                        91-103    137  2019  2019-08-01 00:00:00   \n",
       "1901                       162-169    NaN  2013  2013-10-10 00:00:00   \n",
       "1904  \\n          102769\\n            149  2024  2024-03-01 00:00:00   \n",
       "\n",
       "      Citations  References  \\\n",
       "2             4          20   \n",
       "12          130          32   \n",
       "13          229          45   \n",
       "15            1           9   \n",
       "17           53          28   \n",
       "...         ...         ...   \n",
       "1892          2          25   \n",
       "1894       1144           0   \n",
       "1895         87          71   \n",
       "1901         74          20   \n",
       "1904         24         135   \n",
       "\n",
       "                                                Authors  \\\n",
       "2       Aakash Lilhore, Kavita Kiran Prasad, V. Agarwal   \n",
       "12    Mohammadreza MontazeriShatoori, L. Davidson, G...   \n",
       "13      Wei Chen, Derui Ding, Hongli Dong, Guoliang Wei   \n",
       "15    Luca Schaufelberger, J. T. Blaskovits, Rubén L...   \n",
       "17    Ilia Igashov, Hannes Stärk, Clément Vignac, Ar...   \n",
       "...                                                 ...   \n",
       "1892                             A. Ghanem, H. Alobaidy   \n",
       "1894                   Subir Ghosh, R. Little, D. Rubin   \n",
       "1895  Konstantinos Pliakos, Seang-Hwane Joo, Jung Ye...   \n",
       "1901  Rui Zhuang, Su Zhang, Alexandru G. Bardas, S. ...   \n",
       "1904                       Dóra Göndöcs, Viktor Dörfler   \n",
       "\n",
       "                                             Author_Ids  \\\n",
       "2                      2213915423, 31624194, 2113266595   \n",
       "12             2023739110, 2014749334, 2269790, 2037871   \n",
       "13             2154941306, 1795716, 2597875, 2255389230   \n",
       "15    2322850680, 2255859554, 32427390, 2321647360, ...   \n",
       "17    1677188150, 2312039321, 1404062244, 89961757, ...   \n",
       "...                                                 ...   \n",
       "1892                                  35391618, 8134960   \n",
       "1894                 2324699484, 2324436256, 2324436398   \n",
       "1895  1744769, 38511894, 48490753, 35119306, 2379840...   \n",
       "1901  2397692, 48691553, 2477664, 1710421, 1932524, ...   \n",
       "1904                             2253746105, 2280242240   \n",
       "\n",
       "                                                    URL  \\\n",
       "2     https://www.semanticscholar.org/paper/286519b4...   \n",
       "12    https://www.semanticscholar.org/paper/8c5e5df9...   \n",
       "13    https://www.semanticscholar.org/paper/e51f66d1...   \n",
       "15    https://www.semanticscholar.org/paper/4880ef51...   \n",
       "17    https://www.semanticscholar.org/paper/a129b8ce...   \n",
       "...                                                 ...   \n",
       "1892  https://www.semanticscholar.org/paper/38b83ab5...   \n",
       "1894  https://www.semanticscholar.org/paper/91e71c00...   \n",
       "1895  https://www.semanticscholar.org/paper/ffc1c6d0...   \n",
       "1901  https://www.semanticscholar.org/paper/6603e3fd...   \n",
       "1904  https://www.semanticscholar.org/paper/5120b4f2...   \n",
       "\n",
       "                                       s2FieldsOfStudys  \\\n",
       "2     Computer Science, Engineering, Environmental S...   \n",
       "12                                     Computer Science   \n",
       "13                        Computer Science, Engineering   \n",
       "15                          Materials Science, Medicine   \n",
       "17                          Chemistry, Computer Science   \n",
       "...                                                 ...   \n",
       "1892                        Computer Science, Education   \n",
       "1894                                   Computer Science   \n",
       "1895                                   Computer Science   \n",
       "1901                      Computer Science, Engineering   \n",
       "1904                         Computer Science, Medicine   \n",
       "\n",
       "     Corresponding_Author_ID  \n",
       "2                 2213915423  \n",
       "12                2023739110  \n",
       "13                2154941306  \n",
       "15                2322850680  \n",
       "17                1677188150  \n",
       "...                      ...  \n",
       "1892                35391618  \n",
       "1894              2324699484  \n",
       "1895                 1744769  \n",
       "1901                 2397692  \n",
       "1904              2253746105  \n",
       "\n",
       "[382 rows x 19 columns]"
      ]
     },
     "execution_count": 255,
     "metadata": {},
     "output_type": "execute_result"
    }
   ],
   "source": [
    "# ########### Handle \n",
    "# referenced_df[referenced_df[\"publicationType\"]==\"Unknown\"]"
   ]
  },
  {
   "cell_type": "code",
   "execution_count": 289,
   "metadata": {},
   "outputs": [
    {
     "data": {
      "text/plain": [
       "'/Users/marwasulaiman/Library/Application Support/Neo4j Desktop/Application/relate-data/dbmss/dbms-6f9440a9-c56d-4ebc-b244-90d92b771350/import/conference_editions.csv'"
      ]
     },
     "execution_count": 289,
     "metadata": {},
     "output_type": "execute_result"
    }
   ],
   "source": [
    "import shutil\n",
    "shutil.copy(\"Paper_nodes.csv\", IMPORT_FOLDER)\n",
    "shutil.copy(\"Author_nodes.csv\", IMPORT_FOLDER)\n",
    "shutil.copy(\"fields_of_study.csv\", IMPORT_FOLDER)\n",
    "shutil.copy(\"conferences.csv\", IMPORT_FOLDER)\n",
    "shutil.copy(\"journals.csv\", IMPORT_FOLDER)\n",
    "shutil.copy(\"conference_editions.csv\", IMPORT_FOLDER)\n",
    "\n"
   ]
  },
  {
   "cell_type": "code",
   "execution_count": 290,
   "metadata": {},
   "outputs": [
    {
     "data": {
      "text/plain": [
       "<neo4j._sync.work.result.Result at 0x16d2e36b0>"
      ]
     },
     "execution_count": 290,
     "metadata": {},
     "output_type": "execute_result"
    }
   ],
   "source": [
    "driver = GraphDatabase.driver(NEO4J_URI, auth=(NEO4J_USER, NEO4J_PASSWORD))\n",
    "\n",
    "session = driver.session() \n",
    "\n",
    "# Load papers \n",
    "query =     \"\"\"\n",
    "            LOAD CSV WITH HEADERS FROM \"file:///Paper_nodes.csv\" AS row\n",
    "            CREATE (:Paper { DOI : row.DOI, title : row.Title, abstract : row.Abstract, year : toInteger(row.Year), \n",
    "            publicationDate : date(substring(row.publicationDate, 0, 10)), citationCount : toInteger(row.Citations), referenceCount : toInteger(row.References),\n",
    "            URL : row.URL})\n",
    "            \"\"\"\n",
    "session.run(query)\n",
    "\n"
   ]
  },
  {
   "cell_type": "code",
   "execution_count": 291,
   "metadata": {},
   "outputs": [
    {
     "data": {
      "text/plain": [
       "<neo4j._sync.work.result.Result at 0x3413efe30>"
      ]
     },
     "execution_count": 291,
     "metadata": {},
     "output_type": "execute_result"
    }
   ],
   "source": [
    "# Load Authors \n",
    "\n",
    "query =     \"\"\"\n",
    "            LOAD CSV WITH HEADERS FROM \"file:///Author_nodes.csv\" AS row\n",
    "            CREATE (:Author { ID : toInteger(row.Author_ID), Name: row.Author_Name})\n",
    "            \"\"\"\n",
    "session.run(query)"
   ]
  },
  {
   "cell_type": "code",
   "execution_count": 292,
   "metadata": {},
   "outputs": [
    {
     "data": {
      "text/plain": [
       "<neo4j._sync.work.result.Result at 0x3413046b0>"
      ]
     },
     "execution_count": 292,
     "metadata": {},
     "output_type": "execute_result"
    }
   ],
   "source": [
    "# Load Keywords \n",
    "\n",
    "query =     \"\"\"\n",
    "            LOAD CSV WITH HEADERS FROM \"file:///fields_of_study.csv\" AS row\n",
    "            CREATE (:Keyword { ID : row.Field_ID, Name: row.Field_Name})\n",
    "            \"\"\"\n",
    "session.run(query)"
   ]
  },
  {
   "cell_type": "code",
   "execution_count": 293,
   "metadata": {},
   "outputs": [
    {
     "data": {
      "text/plain": [
       "<neo4j._sync.work.result.Result at 0x3413053a0>"
      ]
     },
     "execution_count": 293,
     "metadata": {},
     "output_type": "execute_result"
    }
   ],
   "source": [
    "# Load conferences\n",
    "query =     \"\"\"\n",
    "            LOAD CSV WITH HEADERS FROM \"file:///conferences.csv\" AS row\n",
    "            CREATE (:Conference { ID : row.ID, Name: row.Name, URL: row.url})\n",
    "            \"\"\"\n",
    "session.run(query)"
   ]
  },
  {
   "cell_type": "code",
   "execution_count": 294,
   "metadata": {},
   "outputs": [
    {
     "data": {
      "text/plain": [
       "<neo4j._sync.work.result.Result at 0x16c167e30>"
      ]
     },
     "execution_count": 294,
     "metadata": {},
     "output_type": "execute_result"
    }
   ],
   "source": [
    "# Load Editions\n",
    "query =     \"\"\"\n",
    "            LOAD CSV WITH HEADERS FROM \"file:///conference_editions.csv\" AS row\n",
    "            CREATE (:Conference_Edition { ID : row.Edition_ID, Venue_ID: row.Venue_ID, Year:row.Year, Proceeding: row.Proceeding_Name})\n",
    "            \"\"\"\n",
    "session.run(query)"
   ]
  },
  {
   "cell_type": "code",
   "execution_count": 295,
   "metadata": {},
   "outputs": [
    {
     "data": {
      "text/plain": [
       "<neo4j._sync.work.result.Result at 0x16c53e270>"
      ]
     },
     "execution_count": 295,
     "metadata": {},
     "output_type": "execute_result"
    }
   ],
   "source": [
    "# Load Journals\n",
    "query =     \"\"\"\n",
    "            LOAD CSV WITH HEADERS FROM \"file:///journals.csv\" AS row\n",
    "            CREATE (:Journal { ID : row.ID, Name: row.Name, ISSN: row.issn, URL: row.url})\n",
    "            \"\"\"\n",
    "session.run(query)"
   ]
  },
  {
   "cell_type": "markdown",
   "metadata": {},
   "source": [
    "Relationships"
   ]
  },
  {
   "cell_type": "code",
   "execution_count": 296,
   "metadata": {},
   "outputs": [
    {
     "data": {
      "text/plain": [
       "'/Users/marwasulaiman/Library/Application Support/Neo4j Desktop/Application/relate-data/dbmss/dbms-6f9440a9-c56d-4ebc-b244-90d92b771350/import/ref_paper_field_relationship.csv'"
      ]
     },
     "execution_count": 296,
     "metadata": {},
     "output_type": "execute_result"
    }
   ],
   "source": [
    "shutil.copy(\"author_paper_relationship.csv\", IMPORT_FOLDER)\n",
    "shutil.copy(\"ref_author_paper_relationship.csv\", IMPORT_FOLDER)\n",
    "shutil.copy(\"paper_field_relationship.csv\", IMPORT_FOLDER)\n",
    "shutil.copy(\"ref_paper_field_relationship.csv\", IMPORT_FOLDER)\n"
   ]
  },
  {
   "cell_type": "code",
   "execution_count": 297,
   "metadata": {},
   "outputs": [
    {
     "data": {
      "text/plain": [
       "<neo4j._sync.work.result.Result at 0x16c167e00>"
      ]
     },
     "execution_count": 297,
     "metadata": {},
     "output_type": "execute_result"
    }
   ],
   "source": [
    "query =    \"\"\"LOAD CSV WITH HEADERS FROM 'file:///author_paper_relationship.csv' AS row\n",
    "            MATCH (a:Author {ID: toInteger(row.Author_ID)}), (p:Paper {DOI: row.DOI})\n",
    "            MERGE (a)-[w:writes]->(p)\n",
    "            \"\"\"\n",
    "session.run(query)"
   ]
  },
  {
   "cell_type": "code",
   "execution_count": 298,
   "metadata": {},
   "outputs": [
    {
     "data": {
      "text/plain": [
       "<neo4j._sync.work.result.Result at 0x3413ee780>"
      ]
     },
     "execution_count": 298,
     "metadata": {},
     "output_type": "execute_result"
    }
   ],
   "source": [
    "query =    \"\"\"LOAD CSV WITH HEADERS FROM 'file:///author_paper_relationship.csv' AS row\n",
    "            MATCH (a:Author {ID: toInteger(row.Author_ID)}), (p:Paper {DOI: row.DOI})\n",
    "            WHERE toBoolean(row.Corresponding) = True\n",
    "            MERGE (a)-[:CORRESPONDING_AUTHOR_OF]->(p);  // Creating a separate edge for corresponding authors\n",
    "            \"\"\"\n",
    "session.run(query)"
   ]
  },
  {
   "cell_type": "code",
   "execution_count": null,
   "metadata": {},
   "outputs": [],
   "source": []
  }
 ],
 "metadata": {
  "kernelspec": {
   "display_name": "base",
   "language": "python",
   "name": "python3"
  },
  "language_info": {
   "codemirror_mode": {
    "name": "ipython",
    "version": 3
   },
   "file_extension": ".py",
   "mimetype": "text/x-python",
   "name": "python",
   "nbconvert_exporter": "python",
   "pygments_lexer": "ipython3",
   "version": "3.12.7"
  }
 },
 "nbformat": 4,
 "nbformat_minor": 2
}
